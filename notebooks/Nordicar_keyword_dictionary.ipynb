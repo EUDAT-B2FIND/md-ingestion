{
 "cells": [
  {
   "cell_type": "code",
   "execution_count": 2,
   "id": "adverse-adult",
   "metadata": {},
   "outputs": [],
   "source": [
    "import pandas as pd"
   ]
  },
  {
   "cell_type": "code",
   "execution_count": 3,
   "id": "genuine-salem",
   "metadata": {},
   "outputs": [
    {
     "data": {
      "text/html": [
       "<div>\n",
       "<style scoped>\n",
       "    .dataframe tbody tr th:only-of-type {\n",
       "        vertical-align: middle;\n",
       "    }\n",
       "\n",
       "    .dataframe tbody tr th {\n",
       "        vertical-align: top;\n",
       "    }\n",
       "\n",
       "    .dataframe thead th {\n",
       "        text-align: right;\n",
       "    }\n",
       "</style>\n",
       "<table border=\"1\" class=\"dataframe\">\n",
       "  <thead>\n",
       "    <tr style=\"text-align: right;\">\n",
       "      <th></th>\n",
       "      <th>slks</th>\n",
       "      <th>en</th>\n",
       "      <th>askeladden</th>\n",
       "    </tr>\n",
       "  </thead>\n",
       "  <tbody>\n",
       "    <tr>\n",
       "      <th>0</th>\n",
       "      <td>Begravelse</td>\n",
       "      <td>Funerary</td>\n",
       "      <td>Gravminne</td>\n",
       "    </tr>\n",
       "    <tr>\n",
       "      <th>1</th>\n",
       "      <td>Bosættelse</td>\n",
       "      <td>Settlement</td>\n",
       "      <td>Bolig/bosetning</td>\n",
       "    </tr>\n",
       "    <tr>\n",
       "      <th>2</th>\n",
       "      <td>Diverse anlæg og genstande</td>\n",
       "      <td>Diverse features and objects</td>\n",
       "      <td>Funksjon uspesifisert</td>\n",
       "    </tr>\n",
       "    <tr>\n",
       "      <th>3</th>\n",
       "      <td>Transport</td>\n",
       "      <td>Transport</td>\n",
       "      <td>Ferdsel/samferdsel</td>\n",
       "    </tr>\n",
       "    <tr>\n",
       "      <th>4</th>\n",
       "      <td>Primær subsistens</td>\n",
       "      <td>Primary subsistence</td>\n",
       "      <td>Landbruk</td>\n",
       "    </tr>\n",
       "    <tr>\n",
       "      <th>...</th>\n",
       "      <td>...</td>\n",
       "      <td>...</td>\n",
       "      <td>...</td>\n",
       "    </tr>\n",
       "    <tr>\n",
       "      <th>589</th>\n",
       "      <td>Vandingsanlæg</td>\n",
       "      <td>Irrigation</td>\n",
       "      <td>Vannforsyningsanlegg</td>\n",
       "    </tr>\n",
       "    <tr>\n",
       "      <th>590</th>\n",
       "      <td>NaN</td>\n",
       "      <td>Water purification</td>\n",
       "      <td>Vannrensingsanlegg</td>\n",
       "    </tr>\n",
       "    <tr>\n",
       "      <th>591</th>\n",
       "      <td>Vej</td>\n",
       "      <td>Road</td>\n",
       "      <td>Veganlegg</td>\n",
       "    </tr>\n",
       "    <tr>\n",
       "      <th>592</th>\n",
       "      <td>NaN</td>\n",
       "      <td>Road station</td>\n",
       "      <td>Vegstasjon</td>\n",
       "    </tr>\n",
       "    <tr>\n",
       "      <th>593</th>\n",
       "      <td>Båd-/skibsværft</td>\n",
       "      <td>Shipyard / Boatyard</td>\n",
       "      <td>Verft</td>\n",
       "    </tr>\n",
       "  </tbody>\n",
       "</table>\n",
       "<p>594 rows × 3 columns</p>\n",
       "</div>"
      ],
      "text/plain": [
       "                           slks                            en  \\\n",
       "0                    Begravelse                      Funerary   \n",
       "1                    Bosættelse                    Settlement   \n",
       "2    Diverse anlæg og genstande  Diverse features and objects   \n",
       "3                     Transport                     Transport   \n",
       "4             Primær subsistens           Primary subsistence   \n",
       "..                          ...                           ...   \n",
       "589               Vandingsanlæg                    Irrigation   \n",
       "590                         NaN            Water purification   \n",
       "591                         Vej                          Road   \n",
       "592                         NaN                  Road station   \n",
       "593             Båd-/skibsværft           Shipyard / Boatyard   \n",
       "\n",
       "                askeladden  \n",
       "0                Gravminne  \n",
       "1          Bolig/bosetning  \n",
       "2    Funksjon uspesifisert  \n",
       "3       Ferdsel/samferdsel  \n",
       "4                 Landbruk  \n",
       "..                     ...  \n",
       "589   Vannforsyningsanlegg  \n",
       "590     Vannrensingsanlegg  \n",
       "591              Veganlegg  \n",
       "592             Vegstasjon  \n",
       "593                  Verft  \n",
       "\n",
       "[594 rows x 3 columns]"
      ]
     },
     "execution_count": 3,
     "metadata": {},
     "output_type": "execute_result"
    }
   ],
   "source": [
    "df = pd.read_csv('../etc/Community/NORDICAR_MappingKeywords.csv', sep = ';', encoding='ISO-8859-1')\n",
    "df"
   ]
  },
  {
   "cell_type": "code",
   "execution_count": 4,
   "id": "large-reduction",
   "metadata": {},
   "outputs": [
    {
     "data": {
      "text/html": [
       "<div>\n",
       "<style scoped>\n",
       "    .dataframe tbody tr th:only-of-type {\n",
       "        vertical-align: middle;\n",
       "    }\n",
       "\n",
       "    .dataframe tbody tr th {\n",
       "        vertical-align: top;\n",
       "    }\n",
       "\n",
       "    .dataframe thead th {\n",
       "        text-align: right;\n",
       "    }\n",
       "</style>\n",
       "<table border=\"1\" class=\"dataframe\">\n",
       "  <thead>\n",
       "    <tr style=\"text-align: right;\">\n",
       "      <th></th>\n",
       "      <th>slks</th>\n",
       "      <th>en</th>\n",
       "      <th>askeladden</th>\n",
       "    </tr>\n",
       "  </thead>\n",
       "  <tbody>\n",
       "    <tr>\n",
       "      <th>533</th>\n",
       "      <td>NaN</td>\n",
       "      <td>Coal production</td>\n",
       "      <td>Kullfremstillingsanlegg</td>\n",
       "    </tr>\n",
       "  </tbody>\n",
       "</table>\n",
       "</div>"
      ],
      "text/plain": [
       "    slks               en               askeladden\n",
       "533  NaN  Coal production  Kullfremstillingsanlegg"
      ]
     },
     "execution_count": 4,
     "metadata": {},
     "output_type": "execute_result"
    }
   ],
   "source": [
    "result = df.loc[df.askeladden == 'Kullfremstillingsanlegg']\n",
    "result"
   ]
  },
  {
   "cell_type": "code",
   "execution_count": 6,
   "id": "9bc60c51-e9f2-4b27-bd32-11979333000b",
   "metadata": {},
   "outputs": [
    {
     "data": {
      "text/plain": [
       "[nan, 'Coal production', 'Kullfremstillingsanlegg']"
      ]
     },
     "execution_count": 6,
     "metadata": {},
     "output_type": "execute_result"
    }
   ],
   "source": [
    "found=result.values[0].tolist()\n",
    "found"
   ]
  },
  {
   "cell_type": "code",
   "execution_count": 7,
   "id": "b5dc432d-a866-4e5a-b825-8765439193fa",
   "metadata": {},
   "outputs": [
    {
     "data": {
      "text/plain": [
       "nan"
      ]
     },
     "execution_count": 7,
     "metadata": {},
     "output_type": "execute_result"
    }
   ],
   "source": [
    "found[0]"
   ]
  },
  {
   "cell_type": "code",
   "execution_count": 8,
   "id": "686ecfbe-4b86-42df-b3eb-9dab573f0419",
   "metadata": {},
   "outputs": [
    {
     "data": {
      "text/plain": [
       "True"
      ]
     },
     "execution_count": 8,
     "metadata": {},
     "output_type": "execute_result"
    }
   ],
   "source": [
    "pd.isnull(found[0])"
   ]
  },
  {
   "cell_type": "code",
   "execution_count": 9,
   "id": "f557f31a-0b58-46ce-8d2a-caae02a01b8a",
   "metadata": {},
   "outputs": [
    {
     "data": {
      "text/plain": [
       "False"
      ]
     },
     "execution_count": 9,
     "metadata": {},
     "output_type": "execute_result"
    }
   ],
   "source": [
    "pd.isnull(found[1])"
   ]
  },
  {
   "cell_type": "code",
   "execution_count": null,
   "id": "ec84117f-32c6-48e9-80b0-92603e582b00",
   "metadata": {},
   "outputs": [],
   "source": []
  }
 ],
 "metadata": {
  "kernelspec": {
   "display_name": "Python 3 (ipykernel)",
   "language": "python",
   "name": "python3"
  },
  "language_info": {
   "codemirror_mode": {
    "name": "ipython",
    "version": 3
   },
   "file_extension": ".py",
   "mimetype": "text/x-python",
   "name": "python",
   "nbconvert_exporter": "python",
   "pygments_lexer": "ipython3",
   "version": "3.8.12"
  }
 },
 "nbformat": 4,
 "nbformat_minor": 5
}
