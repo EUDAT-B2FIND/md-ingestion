{
 "cells": [
  {
   "cell_type": "markdown",
   "id": "5090cf7a-f6ad-4fda-8586-fa127e9aecc6",
   "metadata": {},
   "source": [
    "# Classify disciplines\n",
    "\n",
    "https://networkx.org/documentation/stable/index.html"
   ]
  },
  {
   "cell_type": "code",
   "execution_count": 1,
   "id": "8310a5f1-f454-4e1f-83fd-c04bda4dd0d9",
   "metadata": {},
   "outputs": [],
   "source": [
    "import json\n",
    "import Levenshtein as lvs\n",
    "import networkx as nx\n",
    "import yaml"
   ]
  },
  {
   "cell_type": "code",
   "execution_count": 2,
   "id": "7892db02-5ad1-4c05-9f29-69637823976f",
   "metadata": {},
   "outputs": [
    {
     "data": {
      "text/plain": [
       "336"
      ]
     },
     "execution_count": 2,
     "metadata": {},
     "output_type": "execute_result"
    }
   ],
   "source": [
    "doc = json.load(fp=open(\"../etc/b2find_disciplines.json\"))\n",
    "len(doc[\"disciplines\"])"
   ]
  },
  {
   "cell_type": "code",
   "execution_count": 3,
   "id": "20623991-da52-4ae7-b6f7-ab475ad56cca",
   "metadata": {},
   "outputs": [
    {
     "data": {
      "text/plain": [
       "336"
      ]
     },
     "execution_count": 3,
     "metadata": {},
     "output_type": "execute_result"
    }
   ],
   "source": [
    "G = nx.DiGraph()\n",
    "attributes = {}\n",
    "for value in doc[\"disciplines\"]:\n",
    "    parts = value.split(\"#\")\n",
    "    if len(parts) < 3:\n",
    "        continue\n",
    "    nodes = [node.strip() for node in parts]\n",
    "    label = nodes[0]\n",
    "    start = nodes[1]\n",
    "    end = nodes[2]\n",
    "    attributes[end] = {\"label\": label}\n",
    "    if start != end:\n",
    "        G.add_edge(start, end)\n",
    "nx.set_node_attributes(G, attributes)\n",
    "G.number_of_nodes()"
   ]
  },
  {
   "cell_type": "code",
   "execution_count": 4,
   "id": "4aa415f7-d7ce-41eb-a802-31ff735d9c25",
   "metadata": {},
   "outputs": [],
   "source": [
    "def classify(text):\n",
    "    for node in G.nodes:\n",
    "        similarity = lvs.ratio(text.lower(), node.lower())\n",
    "        if similarity >= 0.9:\n",
    "            print(node, similarity, list(nx.ancestors(G, node)), \n",
    "                  G.in_degree(node), G.out_degree(node))"
   ]
  },
  {
   "cell_type": "code",
   "execution_count": 5,
   "id": "b06031bf-601d-4d1c-afbd-ad893243e1b9",
   "metadata": {},
   "outputs": [
    {
     "name": "stdout",
     "output_type": "stream",
     "text": [
      "Astrophysics and Astronomy 1.0 ['Natural Sciences', 'Physics'] 1 11\n"
     ]
    }
   ],
   "source": [
    "classify(\"astrophysics and astronomy\")"
   ]
  },
  {
   "cell_type": "code",
   "execution_count": 6,
   "id": "b7756bbc-5ff3-4e53-90a8-0c2249ff1dda",
   "metadata": {},
   "outputs": [
    {
     "name": "stdout",
     "output_type": "stream",
     "text": [
      "Physics 1.0 ['Natural Sciences'] 1 6\n"
     ]
    }
   ],
   "source": [
    "classify(\"physics\")"
   ]
  },
  {
   "cell_type": "code",
   "execution_count": 7,
   "id": "f5d16fdb-5fd3-4c93-8ab9-e1a52549030f",
   "metadata": {},
   "outputs": [
    {
     "name": "stdout",
     "output_type": "stream",
     "text": [
      "Information Science 1.0 ['Engineering Sciences', 'Computer Science', 'Computer Science, Electrical and System Engineering'] 1 0\n"
     ]
    }
   ],
   "source": [
    "classify(\"information science\")"
   ]
  },
  {
   "cell_type": "code",
   "execution_count": 8,
   "id": "6068d192-229a-49eb-9bde-c5439eb9ff14",
   "metadata": {},
   "outputs": [
    {
     "name": "stdout",
     "output_type": "stream",
     "text": [
      "Information Science 0.9444444444444444 ['Engineering Sciences', 'Computer Science', 'Computer Science, Electrical and System Engineering'] 1 0\n"
     ]
    }
   ],
   "source": [
    "classify(\"infrmation scince\")"
   ]
  },
  {
   "cell_type": "code",
   "execution_count": 9,
   "id": "7d98014a-a93c-43a9-b1d6-f6845640acad",
   "metadata": {},
   "outputs": [
    {
     "name": "stdout",
     "output_type": "stream",
     "text": [
      "Engineering 1.0 ['Engineering Sciences', 'Construction Engineering and Architecture'] 1 0\n"
     ]
    }
   ],
   "source": [
    "classify(\"Engineering\")"
   ]
  },
  {
   "cell_type": "code",
   "execution_count": 10,
   "id": "d2ee808b-fcaa-4d5b-accd-77df824049ae",
   "metadata": {},
   "outputs": [
    {
     "name": "stdout",
     "output_type": "stream",
     "text": [
      "Computer Science 1.0 ['Engineering Sciences', 'Computer Science, Electrical and System Engineering'] 1 7\n"
     ]
    }
   ],
   "source": [
    "classify(\"Computer Science\")"
   ]
  },
  {
   "cell_type": "code",
   "execution_count": 11,
   "id": "22ce9298-ac92-44b5-b1f2-4d7c61b1da2b",
   "metadata": {},
   "outputs": [
    {
     "name": "stdout",
     "output_type": "stream",
     "text": [
      "Natural Sciences 1.0 [] 0 4\n"
     ]
    }
   ],
   "source": [
    "classify(\"Natural Sciences\")"
   ]
  },
  {
   "cell_type": "code",
   "execution_count": 12,
   "id": "6f209392-bd4a-4d0d-a025-43336b39f205",
   "metadata": {},
   "outputs": [
    {
     "data": {
      "text/plain": [
       "[('Natural Sciences', ['Chemistry', 'Physics', 'Mathematics', 'Geosciences'])]"
      ]
     },
     "execution_count": 12,
     "metadata": {},
     "output_type": "execute_result"
    }
   ],
   "source": [
    "list(nx.bfs_successors(G, \"Natural Sciences\", 1))"
   ]
  },
  {
   "cell_type": "code",
   "execution_count": 13,
   "id": "8d31285f-c141-4421-bdb5-567dae239e9b",
   "metadata": {},
   "outputs": [
    {
     "data": {
      "text/plain": [
       "['Natural Sciences']"
      ]
     },
     "execution_count": 13,
     "metadata": {},
     "output_type": "execute_result"
    }
   ],
   "source": [
    "list(nx.ancestors(G, \"Mathematics\"))"
   ]
  },
  {
   "cell_type": "markdown",
   "id": "bc433e14-60ce-4b8f-bc4b-c63cae474c90",
   "metadata": {},
   "source": [
    "## Root nodes"
   ]
  },
  {
   "cell_type": "code",
   "execution_count": 14,
   "id": "e10825fd-dfcb-495b-ba69-9424f16068b9",
   "metadata": {},
   "outputs": [
    {
     "name": "stdout",
     "output_type": "stream",
     "text": [
      "Humanities 1\n",
      "Social and Behavioural Sciences 2\n",
      "Life Sciences 3\n",
      "Natural Sciences 4\n",
      "Engineering Sciences 5\n"
     ]
    }
   ],
   "source": [
    "for node in G.nodes:\n",
    "    degree = G.in_degree(node)\n",
    "    if degree == 0:\n",
    "        print(node, nx.get_node_attributes(G, 'label')[node])"
   ]
  },
  {
   "cell_type": "code",
   "execution_count": 15,
   "id": "035a993f-30e8-45d2-8fb4-cf473f13664a",
   "metadata": {},
   "outputs": [
    {
     "name": "stdout",
     "output_type": "stream",
     "text": [
      "Humanities\n",
      "['Ancient Cultures', 'History', 'Fine Arts, Music, Theatre and Media Studies', 'Linguistics', 'Literary Studies', 'Social and Cultural Anthropology', 'Theology and Religion Studies', 'Philosophy']\n",
      "\n",
      "Social and Behavioural Sciences\n",
      "['Education Sciences', 'Psychology', 'Social Sciences', 'Economics', 'Jurisprudence']\n",
      "\n",
      "Life Sciences\n",
      "['Biology', 'Medicine', 'Agriculture, Forestry, Horticulture, Aquaculture and Veterinary Medicine']\n",
      "\n",
      "Natural Sciences\n",
      "['Chemistry', 'Physics', 'Mathematics', 'Geosciences']\n",
      "\n",
      "Engineering Sciences\n",
      "['Mechanical and industrial Engineering', 'Thermal Engineering/Process Engineering', 'Materials Science and Engineering', 'Computer Science, Electrical and System Engineering', 'Construction Engineering and Architecture']\n",
      "\n"
     ]
    }
   ],
   "source": [
    "for node in G.nodes:\n",
    "    degree = len(list(nx.ancestors(G, node)))\n",
    "    if degree == 0:\n",
    "        print(node)\n",
    "        print(list(G.successors(node)))\n",
    "        print()"
   ]
  },
  {
   "cell_type": "markdown",
   "id": "25da95dd-11db-46e8-9ade-f23d3e36128f",
   "metadata": {},
   "source": [
    "## Leaf nodes"
   ]
  },
  {
   "cell_type": "code",
   "execution_count": 16,
   "id": "cc9bd815-39c4-4b86-bc5c-c075fe465fd4",
   "metadata": {},
   "outputs": [
    {
     "data": {
      "text/plain": [
       "275"
      ]
     },
     "execution_count": 16,
     "metadata": {},
     "output_type": "execute_result"
    }
   ],
   "source": [
    "leafs = []\n",
    "for node in G.nodes:\n",
    "    degree = G.out_degree(node)\n",
    "    if degree == 0:\n",
    "        # print(node)\n",
    "        leafs.append(node)\n",
    "len(leafs)"
   ]
  },
  {
   "cell_type": "markdown",
   "id": "b0eaf86f-97bb-4cd3-8744-99adb6d91e58",
   "metadata": {},
   "source": [
    "## Store as yaml"
   ]
  },
  {
   "cell_type": "code",
   "execution_count": 17,
   "id": "6488632c-e261-4b7b-acd4-928e6277ffab",
   "metadata": {},
   "outputs": [],
   "source": [
    "def node_name(node, with_label=False):\n",
    "    label = node_label(node)\n",
    "    if with_label and label:\n",
    "        name = f\"{label}#{node}\"\n",
    "    else:\n",
    "        name = node\n",
    "    return name\n",
    "\n",
    "def node_label(node):\n",
    "    labels = nx.get_node_attributes(G, \"label\")\n",
    "    return labels.get(node)\n",
    "\n",
    "def sort_nodes(nodes):\n",
    "    return sorted(nodes, key=node_label)\n",
    "\n",
    "def root_nodes():\n",
    "    nodes = []\n",
    "    for node in G.nodes:\n",
    "        degree = G.in_degree(node)\n",
    "        if degree == 0:\n",
    "            nodes.append(node)\n",
    "    return nodes\n",
    "\n",
    "def build_forest(nodes, with_labels=False):\n",
    "    forest = {'root': []}\n",
    "    for node in sort_nodes(nodes):\n",
    "        name = node_name(node, with_labels)\n",
    "        forest['root'].append(build_tree(node, with_labels))\n",
    "    return forest\n",
    "\n",
    "def build_tree(node, with_labels=False):\n",
    "    children = list(G.successors(node))\n",
    "    name = node_name(node, with_labels)\n",
    "    if children:\n",
    "        # node with children\n",
    "        tree = {}\n",
    "        tree[name] = []\n",
    "        for child in sort_nodes(children):\n",
    "            tree[name].append(build_tree(child, with_labels))\n",
    "    else:\n",
    "        # leaf node\n",
    "        tree = name\n",
    "    return tree"
   ]
  },
  {
   "cell_type": "code",
   "execution_count": 18,
   "id": "1a3c113e-9c2d-4d33-aec2-c3e972301b54",
   "metadata": {},
   "outputs": [
    {
     "name": "stdout",
     "output_type": "stream",
     "text": [
      "- 1#Humanities:\n",
      "  - 1.1#Ancient Cultures:\n",
      "    - 1.1.1#Prehistory\n",
      "    - 1.1.2#Classical Philology\n",
      "    - 1.1.3#Ancient History\n",
      "    - 1.1.4#Classical Archaeology\n",
      "    - 1.1.5#Archaeology\n",
      "    - 1.1.6#Egyptology and Ancient Near Eastern Studies\n",
      "  - 1.2#History:\n",
      "    - 1.2.1#Medieval History\n",
      "    - 1.2.2#Early Modern History\n",
      "    - 1.2.3#Modern and Current History\n",
      "    - 1.2.4#History of Science\n",
      "    - 1.2.5#History of Political Thought\n",
      "  - 1.3#Fine Arts, Music, Theatre and Media Studies:\n",
      "    - 1.3.1#Art History\n",
      "    - 1.3.2#Fine Arts\n",
      "    - 1.3.3#Dance\n",
      "    - 1.3.4#Theater\n",
      "    - 1.3.5#Film studies\n",
      "    - 1.3.6#Photography\n",
      "    - 1.3.7#Music\n",
      "    - 1.3.8#Design\n",
      "    - 1.3.9#Mixed Media and Media Studies\n",
      "  - 1.4#Linguistics:\n",
      "    - 1.4.1#General and Applied Linguistics\n",
      "    - 1.4.2#Individual Linguistics\n",
      "    - 1.4.3#Non-European Languages,Historical Linguistics\n",
      "    - 1.4.4#Typology, Etymology, Morphology, Phonetics\n",
      "  - 1.5#Literary Studies:\n",
      "    - 1.5.1#Medieval European Literature\n",
      "    - 1.5.2#Modern European Literature\n",
      "    - 1.5.3#North American Literature\n",
      "    - 1.5.4#South American Literature\n",
      "    - 1.5.5#African Literature\n",
      "    - 1.5.6#Asian Literature\n",
      "    - 1.5.7#Australia/Oceania Literature\n",
      "    - 1.5.8#Literary Theory and Comparative Literature\n",
      "    - 1.5.9#Poetry\n",
      "  - 1.6#Social and Cultural Anthropology:\n",
      "    - 1.6.1#Social and Cultural Anthropology and Ethnology/Folklore\n",
      "    - 1.6.2#Asian Studies\n",
      "    - 1.6.3#African, American and Oceania Studies\n",
      "    - 1.6.4#Arabian Studies, Semitic Studies\n",
      "  - 1.7#Theology and Religion Studies:\n",
      "    - 1.7.1#Protestant Theology\n",
      "    - 1.7.2#Roman Catholic Theology\n",
      "    - 1.7.3#Jewish Studies\n",
      "    - 1.7.4#Islam Studies\n",
      "    - 1.7.5#Indian Religions\n",
      "    - 1.7.6#East Asian Religions\n",
      "    - 1.7.7#Comparative Religion Studies\n",
      "    - 1.7.8#Mythology\n",
      "  - 1.8#Philosophy:\n",
      "    - 1.8.1#History of Philosophy\n",
      "    - 1.8.2#Theoretical Philosophy\n",
      "    - 1.8.3#Practical Philosophy\n",
      "- 2#Social and Behavioural Sciences:\n",
      "  - 2.1#Education Sciences:\n",
      "    - 2.1.1#General Education and History of Education\n",
      "    - 2.1.2#Research on Teaching, Learning and Training\n",
      "    - 2.1.3#Research on Socialization and Educational Institutions and Professionsy\n",
      "  - 2.2#Psychology:\n",
      "    - 2.2.1#General, Biological and Mathematical Psychology\n",
      "    - 2.2.2#Developmental and Educational Psychology\n",
      "    - 2.2.3#Social Psychology, Industrial and Organisational Psychology\n",
      "    - 2.2.4#Differential Psychology, Clinical Psychology, Medical Psychology, Methodology\n",
      "  - 2.3#Social Sciences:\n",
      "    - 2.3.1#Sociological Theory\n",
      "    - 2.3.2#Empirical Social Research\n",
      "    - 2.3.3#Communication Science\n",
      "    - 2.3.4#Political Science\n",
      "  - 2.4#Economics:\n",
      "    - 2.4.1#Economic Theory\n",
      "    - 2.4.2#Economic and Social Policy\n",
      "    - 2.4.3#Public Finance\n",
      "    - 2.4.4#Business Administration\n",
      "    - 2.4.5#Statistics and Econometrics\n",
      "    - 2.4.6#Economic and Social History\n",
      "    - 2.4.7#Business and Management\n",
      "  - 2.5#Jurisprudence:\n",
      "    - 2.5.1#Legal and Political Philosophy, Legal History, Legal Theory\n",
      "    - 2.5.2#Private Law\n",
      "    - 2.5.3#Public Law\n",
      "    - 2.5.4#Criminal Law and Law of Criminal Procedure\n",
      "    - 2.5.5#Criminology\n",
      "    - 2.5.6#Law\n",
      "- 3#Life Sciences:\n",
      "  - 3.1#Biology:\n",
      "    - 3.1.1#Basic Biological and Medical Research:\n",
      "      - 3.1.1.01#Biochemistry\n",
      "      - 3.1.1.02#Biophysics\n",
      "      - 3.1.1.03#Cell Biology\n",
      "      - 3.1.1.04#Structural Biology\n",
      "      - 3.1.1.05#General Genetics\n",
      "      - 3.1.1.06#Developmental Biology\n",
      "      - 3.1.1.07#Bioinformatics and Theoretical Biology\n",
      "      - 3.1.1.08#Anatomy\n",
      "      - 3.1.1.09#Omics\n",
      "    - 3.1.2#Plant Sciences:\n",
      "      - 3.1.2.01#Plant Systematics and Evolution\n",
      "      - 3.1.2.02#Plant Ecology and Ecosystem Analysis\n",
      "      - 3.1.2.03#Inter-organismic Interactions of Plants\n",
      "      - 3.1.2.04#Plant Physiology\n",
      "      - 3.1.2.05#Plant Biochemistry and Biophysics\n",
      "      - 3.1.2.06#Plant Cell and Developmental Biology\n",
      "      - 3.1.2.07#Plant Genetics\n",
      "    - 3.1.3#Zoology:\n",
      "      - 3.1.3.01#Systematics and Morphology\n",
      "      - 3.1.3.02#Evolution, Anthropology\n",
      "      - 3.1.3.03#Animal Ecology, Biodiversity and Ecosystem Research\n",
      "      - 3.1.3.04#Sensory and Behavioural Biology\n",
      "      - 3.1.3.05#Biochemistry and Animal Physiology\n",
      "      - 3.1.3.06#Animal Genetics, Cell and Developmental Biology\n",
      "  - 3.2#Medicine:\n",
      "    - 3.2.1#Microbiology, Virology and Immunology:\n",
      "      - 3.2.1.01#Metabolism, Biochemistry and Genetics of Microorganisms\n",
      "      - 3.2.1.02#Microbial Ecology and Applied Microbiology\n",
      "      - 3.2.1.03#Medical Microbiology, Molecular Infection Biology\n",
      "      - 3.2.1.04#Virology\n",
      "      - 3.2.1.05#Immunology\n",
      "    - 3.2.2#Medicine and Health:\n",
      "      - 3.2.2.01#Epidemiology, Medical Biometry, Medical Informatics\n",
      "      - 3.2.2.02#Public Health, Health Services Research, Social Medicine\n",
      "      - 3.2.2.03#Human Genetics\n",
      "      - 3.2.2.04#Physiology\n",
      "      - 3.2.2.05#Nutritional Sciences\n",
      "      - 3.2.2.06#Pathology and Forensic Medicine\n",
      "      - 3.2.2.07#Clinical Chemistry and Pathobiochemistry\n",
      "      - 3.2.2.08#Pharmacy\n",
      "      - 3.2.2.09#Pharmacology\n",
      "      - 3.2.2.10#Toxicology and Occupational Medicine\n",
      "      - 3.2.2.11#Anaesthesiology\n",
      "      - 3.2.2.12#Cardiology, Angiology\n",
      "      - 3.2.2.13#Pneumology, Clinical Infectiology Intensive Care Medicine\n",
      "      - 3.2.2.14#Hematology, Oncology, Transfusion Medicine\n",
      "      - 3.2.2.15#Gastroenterology, Metabolism\n",
      "      - 3.2.2.16#Nephrology\n",
      "      - 3.2.2.17#Endocrinology, Diabetology\n",
      "      - 3.2.2.18#Rheumatology, Clinical Immunology, Allergology\n",
      "      - 3.2.2.19#Dermatology\n",
      "      - 3.2.2.20#Pediatric and Adolescent Medicine\n",
      "      - 3.2.2.21#Gynaecology and Obstetrics\n",
      "      - 3.2.2.22#Reproductive Medicine/Biology\n",
      "      - 3.2.2.23#Urology\n",
      "      - 3.2.2.24#Gerontology and Geriatric Medicine\n",
      "      - 3.2.2.25#Vascular and Visceral Surgery\n",
      "      - 3.2.2.26#Cardiothoracic Surgery\n",
      "      - 3.2.2.27#Traumatology and Orthopaedics\n",
      "      - 3.2.2.28#Dentistry, Oral Surgery\n",
      "      - 3.2.2.29#Otolaryngology\n",
      "      - 3.2.2.30#Radiology and Nuclear Medicine\n",
      "      - 3.2.2.31#Radiation Oncology and Radiobiology\n",
      "      - 3.2.2.32#Biomedical Technology and Medical Physics\n",
      "    - 3.2.3#Neurosciences:\n",
      "      - 3.2.3.01#Molecular Neuroscience and Neurogenetics\n",
      "      - 3.2.3.02#Cellular Neuroscience\n",
      "      - 3.2.3.03#Developmental Neurobiology\n",
      "      - 3.2.3.04#Systemic Neuroscience, Computational Neuroscience, Behaviour\n",
      "      - 3.2.3.05#Comparative Neurobiology\n",
      "      - 3.2.3.06#Cognitive Neuroscience and Neuroimaging\n",
      "      - 3.2.3.07#Molecular Neurology\n",
      "      - 3.2.3.08#Neurology, Neurosurgery\n",
      "      - 3.2.3.09#Psychotherapy, Psychosomatic Medicine\n",
      "      - 3.2.3.10#Ophthalmology\n",
      "      - 3.2.3.11#Biological Psychiatry\n",
      "  - 3.3#Agriculture, Forestry, Horticulture, Aquaculture and Veterinary Medicine:\n",
      "    - 3.3.1#Agriculture, Forestry, Horticulture, Aquaculture:\n",
      "      - 3.3.1.01#Soil Sciences\n",
      "      - 3.3.1.02#Plant Cultivation\n",
      "      - 3.3.1.03#Plant Nutrition\n",
      "      - 3.3.1.04#Ecology of Agricultural Landscapes\n",
      "      - 3.3.1.05#Plant Breeding\n",
      "      - 3.3.1.06#Phytomedicine\n",
      "      - 3.3.1.07#Agricultural and Food Process Engineering\n",
      "      - 3.3.1.08#Agricultural Economics and Sociology\n",
      "      - 3.3.1.09#Forestry\n",
      "      - 3.3.1.10#Silviculture\n",
      "      - 3.3.1.11#Agricultural Sciences\n",
      "      - 3.3.1.12#Farming Systems\n",
      "      - 3.3.1.13#Aquaculture\n",
      "      - 3.3.1.14#Food Safety\n",
      "    - 3.3.2#Veterinary Medicine:\n",
      "      - 3.3.2.01#Animal Husbandry, Breeding and Hygiene\n",
      "      - 3.3.2.02#Animal Nutrition and Nutrition Physiology\n",
      "      - 3.3.2.03#Basic Veterinary Medical Science\n",
      "      - 3.3.2.04#Basic Research on Pathogenesis, Diagnostics and Therapy and Clinical\n",
      "        Veterinary Medicine\n",
      "- 4#Natural Sciences:\n",
      "  - 4.1#Chemistry:\n",
      "    - 4.1.1#Molecular Chemistry:\n",
      "      - 4.1.1.01#Inorganic Molecular Chemistry\n",
      "      - 4.1.1.02#Organic Molecular Chemistry\n",
      "    - 4.1.2#Chemical Solid State and Surface Research:\n",
      "      - 4.1.2.01#Solid State and Surface Chemistry, Material Synthesis\n",
      "      - 4.1.2.02#Physical Chemistry of Solids and Surfaces, Material Characterisation\n",
      "      - 4.1.2.03#Theory and Modelling\n",
      "    - 4.1.3#Physical and Theoretical Chemistry:\n",
      "      - 4.1.3.01#Physical Chemistry of Molecules, Interfaces and Liquids - Spectroscopy,\n",
      "        Kinetics\n",
      "      - 4.1.3.02#General Theoretical Chemistry\n",
      "    - 4.1.4#Analytical Chemistry, Method Development\n",
      "    - 4.1.5#Biological Chemistry and Food Chemistry:\n",
      "      - 4.1.5.01#Biological and Biomimetic Chemistry\n",
      "      - 4.1.5.02#Food Chemistry\n",
      "    - 4.1.6#Polymer Research:\n",
      "      - 4.1.6.01#Preparatory and Physical Chemistry of Polymers\n",
      "      - 4.1.6.02#Experimental and Theoretical Physics of Polymers\n",
      "      - 4.1.6.03#Polymer Materials\n",
      "  - 4.2#Physics:\n",
      "    - 4.2.1#Condensed Matter Physics:\n",
      "      - 4.2.1.01#Experimental Condensed Matter Physics\n",
      "      - 4.2.1.02#Theoretical Condensed Matter Physics\n",
      "    - 4.2.2#Optics, Quantum Optics and Physics of Atoms, Molecules and Plasmas\n",
      "    - 4.2.3#Particles, Nuclei and Fields\n",
      "    - 4.2.4#Statistical Physics, Soft Matter, Biological Physics, Nonlinear Dynamics\n",
      "    - 4.2.5#Astrophysics and Astronomy:\n",
      "      - 4.2.5.01#Astrophysical Processes\n",
      "      - 4.2.5.02#Cosmology\n",
      "      - 4.2.5.03#Exoplanet Astronomy\n",
      "      - 4.2.5.04#Galactic and extragalactic Astronomy\n",
      "      - 4.2.5.05#High Energy Astrophysics\n",
      "      - 4.2.5.06#Interdisciplinary Astronomy\n",
      "      - 4.2.5.07#Interstellar medium\n",
      "      - 4.2.5.08#Observational Astronomy\n",
      "      - 4.2.5.09#Solar Physics\n",
      "      - 4.2.5.10#Solar System Astronomy\n",
      "      - 4.2.5.11#Stellar Astronomy\n",
      "    - 4.2.6#Space Physics:\n",
      "      - 4.2.6.01#Physics of atmosphere and space plasmas\n",
      "      - 4.2.6.02#Magnetospheric physics\n",
      "      - 4.2.6.03#Solar-terrestrial interaction, Space weather\n",
      "      - 4.2.6.04#Space debris and near-Earth objects\n",
      "  - 4.3#Mathematics:\n",
      "    - 4.3.1#Approximation Theory\n",
      "    - 4.3.2#Numerical Analysis\n",
      "    - 4.3.3#Dynamical Systems\n",
      "    - 4.3.4#Cryptography\n",
      "    - 4.3.5#Logic\n",
      "  - 4.4#Geosciences:\n",
      "    - 4.4.1#Atmospheric Sciences:\n",
      "      - 4.4.1.01#Meteorology\n",
      "      - 4.4.1.02#Climatology\n",
      "      - 4.4.1.03#Atmospheric chemistry\n",
      "      - 4.4.1.04#Atmospheric physics\n",
      "      - 4.4.1.05#Aeronomy\n",
      "      - 4.4.1.06#Ionospheric physics\n",
      "    - 4.4.2#Biospheric Sciences:\n",
      "      - 4.4.2.01#Biogeochemistry\n",
      "      - 4.4.2.02#Biogeography\n",
      "      - 4.4.2.03#Ecology\n",
      "      - 4.4.2.04#Geoarchaeology\n",
      "      - 4.4.2.05#Geomicrobiology\n",
      "      - 4.4.2.06#Paleontology\n",
      "    - 4.4.3#Hydrospheric Sciences:\n",
      "      - 4.4.3.01#Hydrology and Hydrogeology\n",
      "      - 4.4.3.02#Limnology, Urban Water Management, Water Chemistry, Integrated Water\n",
      "        Resources Management\n",
      "    - 4.4.4#Oceanography/Marine Science:\n",
      "      - 4.4.4.01#Physical Oceanography\n",
      "      - 4.4.4.02#Chemical Oceanography\n",
      "      - 4.4.4.03#Marine Biodiversity\n",
      "    - 4.4.5#Geospheric Sciences:\n",
      "      - 4.4.5.01#Geology\n",
      "      - 4.4.5.02#Geography\n",
      "      - 4.4.5.03#Geochemistry/Mineralogy and Crystallography/Petrology\n",
      "      - 4.4.5.04#Geophysics/Seismology\n",
      "      - 4.4.5.05#Geodesy, Geoinformatics and Remote Sensing\n",
      "      - 4.4.5.06#Glaciology\n",
      "      - 4.4.5.07#Volcanology\n",
      "    - 4.4.6#Earth System Research\n",
      "    - 4.4.7#Environmental Research:\n",
      "      - 4.4.7.01#Environmental Monitoring\n",
      "      - 4.4.7.02#Earth and Environmental Science\n",
      "      - 4.4.7.03#Land Use\n",
      "- 5#Engineering Sciences:\n",
      "  - 5.1#Mechanical and industrial Engineering:\n",
      "    - 5.1.1#Production Technology:\n",
      "      - 5.1.1.01#Metal-Cutting Manufacturing Engineering\n",
      "      - 5.1.1.02#Primary Shaping and Reshaping Technology\n",
      "      - 5.1.1.03#Micro-, Precision, Mounting, Joining, Separation Technology\n",
      "      - 5.1.1.04#Plastics Engineering\n",
      "      - 5.1.1.05#Production Automation, Factory Operation, Operations Manangement\n",
      "    - 5.1.2#Mechanics and Constructive Mechanical Engineering:\n",
      "      - 5.1.2.01#Construction, Machine Elements\n",
      "      - 5.1.2.02#Mechanics\n",
      "      - 5.1.2.03#Lightweight Construction, Textile Technology\n",
      "      - 5.1.2.04#Acoustics\n",
      "  - 5.2#Thermal Engineering/Process Engineering:\n",
      "    - 5.2.1#Process Engineering, Technical Chemistry:\n",
      "      - 5.2.1.01#Chemical and Thermal Process Engineering\n",
      "      - 5.2.1.02#Technical Chemistry\n",
      "      - 5.2.1.03#Mechanical Process Engineering\n",
      "      - 5.2.1.04#Biological Process Engineering\n",
      "    - 5.2.2#Heat Energy Technology, Thermal Machines, Fluid Mechanics:\n",
      "      - 5.2.2.01#Energy Process Engineering\n",
      "      - 5.2.2.02#Technical Thermodynamics\n",
      "      - 5.2.2.03#Fluid Mechanics\n",
      "      - 5.2.2.04#Hydraulic and Turbo Engines and Piston Engines\n",
      "  - 5.3#Materials Science and Engineering:\n",
      "    - 5.3.1#Materials Engineering:\n",
      "      - 5.3.1.01#Metallurgical and Thermal Processes, Thermomechanical Treatment of\n",
      "        Materials\n",
      "      - 5.3.1.02#Sintered Metallic and Ceramic Materials\n",
      "      - 5.3.1.03#Composite Materials\n",
      "      - 5.3.1.04#Mechanical Behaviour of Construction Materials\n",
      "      - 5.3.1.05#Coating and Surface Technology\n",
      "    - 5.3.2#Materials Science:\n",
      "      - 5.3.2.01#Thermodynamics and Kinetics of Materials\n",
      "      - 5.3.2.02#Synthesis and Properties of Functional Materials\n",
      "      - 5.3.2.03#Microstructural Mechanical Properties of Materials\n",
      "      - 5.3.2.04#Structuring and Functionalisation\n",
      "      - 5.3.2.05#Biomaterials\n",
      "  - 5.4#Computer Science, Electrical and System Engineering:\n",
      "    - 5.4.1#Systems Engineering:\n",
      "      - 5.4.1.01#Automation, Control Systems, Robotics, Mechatronics\n",
      "      - 5.4.1.02#Measurement Systems\n",
      "      - 5.4.1.03#Microsystems\n",
      "      - 5.4.1.04#Traffic and Transport Systems, Logistics\n",
      "      - 5.4.1.05#Human Factors, Ergonomics, Human-Machine Systems\n",
      "    - 5.4.2#Electrical Engineering:\n",
      "      - 5.4.2.01#Electronic Semiconductors, Components, Circuits, Systems\n",
      "      - 5.4.2.02#Communication, High-Frequency and Network Technology, Theoretical\n",
      "        Electrical Engineering\n",
      "      - 5.4.2.03#Electrical Energy Generation, Distribution, Application\n",
      "      - 5.4.2.4#Radio Science and Radar Technology\n",
      "    - 5.4.3#Computer Science:\n",
      "      - 5.4.3.01#Theoretical Computer Science\n",
      "      - 5.4.3.02#Software Technology\n",
      "      - 5.4.3.03#Operating, Communication, Library and Information Systems\n",
      "      - 5.4.3.04#Artificial Intelligence, Image and Language Processing\n",
      "      - 5.4.3.05#Computer Architecture, Computer Engineering and Embedded Systems\n",
      "      - 5.4.3.06#Information Science\n",
      "      - 5.4.3.07#Research Data Management\n",
      "  - 5.5#Construction Engineering and Architecture:\n",
      "    - 5.5.1#Architecture, Building and Construction History, Sustainable Building\n",
      "      Technology, Building Design\n",
      "    - 5.5.2#Urbanism, Spatial Planning, Transportation and Infrastructure Planning,\n",
      "      Landscape Planning\n",
      "    - 5.5.3#Construction Material Sciences, Chemistry, Building Physics\n",
      "    - 5.5.4#Sructural Engineering, Building Informatics, Construction Operation\n",
      "    - 5.5.5#Applied Mechanics, Statics and Dynamics\n",
      "    - 5.5.6#Engineering\n",
      "\n"
     ]
    }
   ],
   "source": [
    "forest = build_forest(root_nodes(), True)['root']\n",
    "print(yaml.dump(forest))"
   ]
  },
  {
   "cell_type": "code",
   "execution_count": 19,
   "id": "07dfe9f1-74cd-4d67-b765-261d3024e84f",
   "metadata": {},
   "outputs": [],
   "source": [
    "# nx.get_node_attributes(G, \"label\")"
   ]
  },
  {
   "cell_type": "code",
   "execution_count": 20,
   "id": "b608bfc3-0ab5-422d-81f0-a75e521b5c6f",
   "metadata": {},
   "outputs": [],
   "source": [
    "yaml.dump(forest, open(\"../etc/b2find_disciplines.yaml\", \"w\"))"
   ]
  },
  {
   "cell_type": "markdown",
   "id": "fa8d578c-0c39-480b-a194-029ed51bb113",
   "metadata": {},
   "source": [
    "## Read from yaml"
   ]
  },
  {
   "cell_type": "code",
   "execution_count": 21,
   "id": "f921d686-4e9c-488c-aeca-5828b7b3c3d4",
   "metadata": {},
   "outputs": [],
   "source": [
    "disciplines = yaml.safe_load(open(\"../etc/b2find_disciplines.yaml\"))\n",
    "# disciplines"
   ]
  },
  {
   "cell_type": "code",
   "execution_count": 22,
   "id": "017dffaf-7aa6-45b4-a194-d3662d02b7a6",
   "metadata": {},
   "outputs": [],
   "source": [
    "G = nx.DiGraph()\n",
    "attributes = {}"
   ]
  },
  {
   "cell_type": "code",
   "execution_count": 23,
   "id": "b1cbd498-8fc5-4ac3-94a6-c3bdf637eaa5",
   "metadata": {},
   "outputs": [],
   "source": [
    "def read_tree(node, others):\n",
    "    if isinstance(others, dict):\n",
    "        for key in others.keys():\n",
    "            attributes[node] = {\"label\": \"1\"}\n",
    "            G.add_edge(node, key)\n",
    "            read_tree(key, others[key])\n",
    "    elif isinstance(others, list):\n",
    "        for val in others:\n",
    "            read_tree(node, val)\n",
    "    elif isinstance(others, str):\n",
    "        attributes[node] = {\"label\": \"1\"}\n",
    "        G.add_edge(node, others)"
   ]
  },
  {
   "cell_type": "code",
   "execution_count": 24,
   "id": "796aa37a-93b4-4cd9-86e5-2d325aafa114",
   "metadata": {},
   "outputs": [],
   "source": [
    "read_tree('root', disciplines)\n",
    "nx.set_node_attributes(G, attributes)"
   ]
  },
  {
   "cell_type": "code",
   "execution_count": 25,
   "id": "5933ccb5-404c-4190-a753-cb4bd2aaa3dc",
   "metadata": {},
   "outputs": [
    {
     "data": {
      "text/plain": [
       "'root'"
      ]
     },
     "execution_count": 25,
     "metadata": {},
     "output_type": "execute_result"
    }
   ],
   "source": [
    "list(G.nodes())[0]"
   ]
  },
  {
   "cell_type": "code",
   "execution_count": 26,
   "id": "ee0d0cd3-f358-49e7-bfb6-5622b170b3d9",
   "metadata": {},
   "outputs": [
    {
     "data": {
      "text/plain": [
       "337"
      ]
     },
     "execution_count": 26,
     "metadata": {},
     "output_type": "execute_result"
    }
   ],
   "source": [
    "G.number_of_nodes()"
   ]
  },
  {
   "cell_type": "code",
   "execution_count": 27,
   "id": "3a5b69d4-ef65-43e0-8c15-fa62860118a4",
   "metadata": {},
   "outputs": [],
   "source": [
    "#forest = build_forest([\"root\"], True)['root']\n",
    "#print(yaml.dump(forest))"
   ]
  }
 ],
 "metadata": {
  "kernelspec": {
   "display_name": "Python 3 (ipykernel)",
   "language": "python",
   "name": "python3"
  },
  "language_info": {
   "codemirror_mode": {
    "name": "ipython",
    "version": 3
   },
   "file_extension": ".py",
   "mimetype": "text/x-python",
   "name": "python",
   "nbconvert_exporter": "python",
   "pygments_lexer": "ipython3",
   "version": "3.8.13"
  }
 },
 "nbformat": 4,
 "nbformat_minor": 5
}
