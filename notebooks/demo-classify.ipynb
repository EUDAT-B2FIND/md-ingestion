{
 "cells": [
  {
   "cell_type": "markdown",
   "id": "5090cf7a-f6ad-4fda-8586-fa127e9aecc6",
   "metadata": {},
   "source": [
    "# Classify disciplines\n",
    "\n",
    "https://networkx.org/documentation/stable/index.html"
   ]
  },
  {
   "cell_type": "code",
   "execution_count": 1,
   "id": "8310a5f1-f454-4e1f-83fd-c04bda4dd0d9",
   "metadata": {},
   "outputs": [],
   "source": [
    "import json\n",
    "import Levenshtein as lvs\n",
    "import networkx as nx\n",
    "import yaml"
   ]
  },
  {
   "cell_type": "code",
   "execution_count": 2,
   "id": "7892db02-5ad1-4c05-9f29-69637823976f",
   "metadata": {},
   "outputs": [
    {
     "data": {
      "text/plain": [
       "336"
      ]
     },
     "execution_count": 2,
     "metadata": {},
     "output_type": "execute_result"
    }
   ],
   "source": [
    "doc = json.load(fp=open(\"../etc/b2find_disciplines.json\"))\n",
    "len(doc[\"disciplines\"])"
   ]
  },
  {
   "cell_type": "code",
   "execution_count": 3,
   "id": "20623991-da52-4ae7-b6f7-ab475ad56cca",
   "metadata": {},
   "outputs": [
    {
     "data": {
      "text/plain": [
       "336"
      ]
     },
     "execution_count": 3,
     "metadata": {},
     "output_type": "execute_result"
    }
   ],
   "source": [
    "G = nx.DiGraph()\n",
    "attributes = {}\n",
    "for value in doc[\"disciplines\"]:\n",
    "    parts = value.split(\"#\")\n",
    "    if len(parts) < 3:\n",
    "        continue\n",
    "    nodes = [node.strip() for node in parts]\n",
    "    label = nodes[0]\n",
    "    start = nodes[1]\n",
    "    end = nodes[2]\n",
    "    attributes[end] = {\"label\": label}\n",
    "    if start != end:\n",
    "        G.add_edge(start, end)\n",
    "nx.set_node_attributes(G, attributes)\n",
    "G.number_of_nodes()"
   ]
  },
  {
   "cell_type": "code",
   "execution_count": 4,
   "id": "4aa415f7-d7ce-41eb-a802-31ff735d9c25",
   "metadata": {},
   "outputs": [],
   "source": [
    "def classify(text):\n",
    "    for node in G.nodes:\n",
    "        similarity = lvs.ratio(text.lower(), node.lower())\n",
    "        if similarity >= 0.9:\n",
    "            print(node, similarity, list(nx.ancestors(G, node)), \n",
    "                  G.in_degree(node), G.out_degree(node))"
   ]
  },
  {
   "cell_type": "code",
   "execution_count": 5,
   "id": "b06031bf-601d-4d1c-afbd-ad893243e1b9",
   "metadata": {},
   "outputs": [
    {
     "name": "stdout",
     "output_type": "stream",
     "text": [
      "Astrophysics and Astronomy 1.0 ['Natural Sciences', 'Physics'] 1 11\n"
     ]
    }
   ],
   "source": [
    "classify(\"astrophysics and astronomy\")"
   ]
  },
  {
   "cell_type": "code",
   "execution_count": 6,
   "id": "b7756bbc-5ff3-4e53-90a8-0c2249ff1dda",
   "metadata": {},
   "outputs": [
    {
     "name": "stdout",
     "output_type": "stream",
     "text": [
      "Physics 1.0 ['Natural Sciences'] 1 6\n"
     ]
    }
   ],
   "source": [
    "classify(\"physics\")"
   ]
  },
  {
   "cell_type": "code",
   "execution_count": 7,
   "id": "f5d16fdb-5fd3-4c93-8ab9-e1a52549030f",
   "metadata": {},
   "outputs": [
    {
     "name": "stdout",
     "output_type": "stream",
     "text": [
      "Information Science 1.0 ['Engineering Sciences', 'Computer Science, Electrical and System Engineering', 'Computer Science'] 1 0\n"
     ]
    }
   ],
   "source": [
    "classify(\"information science\")"
   ]
  },
  {
   "cell_type": "code",
   "execution_count": 8,
   "id": "6068d192-229a-49eb-9bde-c5439eb9ff14",
   "metadata": {},
   "outputs": [
    {
     "name": "stdout",
     "output_type": "stream",
     "text": [
      "Information Science 0.9444444444444444 ['Engineering Sciences', 'Computer Science, Electrical and System Engineering', 'Computer Science'] 1 0\n"
     ]
    }
   ],
   "source": [
    "classify(\"infrmation scince\")"
   ]
  },
  {
   "cell_type": "code",
   "execution_count": 9,
   "id": "7d98014a-a93c-43a9-b1d6-f6845640acad",
   "metadata": {},
   "outputs": [
    {
     "name": "stdout",
     "output_type": "stream",
     "text": [
      "Engineering 1.0 ['Engineering Sciences', 'Construction Engineering and Architecture'] 1 0\n"
     ]
    }
   ],
   "source": [
    "classify(\"Engineering\")"
   ]
  },
  {
   "cell_type": "code",
   "execution_count": 10,
   "id": "d2ee808b-fcaa-4d5b-accd-77df824049ae",
   "metadata": {},
   "outputs": [
    {
     "name": "stdout",
     "output_type": "stream",
     "text": [
      "Computer Science 1.0 ['Engineering Sciences', 'Computer Science, Electrical and System Engineering'] 1 7\n"
     ]
    }
   ],
   "source": [
    "classify(\"Computer Science\")"
   ]
  },
  {
   "cell_type": "code",
   "execution_count": 11,
   "id": "22ce9298-ac92-44b5-b1f2-4d7c61b1da2b",
   "metadata": {},
   "outputs": [
    {
     "name": "stdout",
     "output_type": "stream",
     "text": [
      "Natural Sciences 1.0 [] 0 4\n"
     ]
    }
   ],
   "source": [
    "classify(\"Natural Sciences\")"
   ]
  },
  {
   "cell_type": "code",
   "execution_count": 12,
   "id": "6f209392-bd4a-4d0d-a025-43336b39f205",
   "metadata": {},
   "outputs": [
    {
     "data": {
      "text/plain": [
       "[('Natural Sciences', ['Chemistry', 'Physics', 'Mathematics', 'Geosciences'])]"
      ]
     },
     "execution_count": 12,
     "metadata": {},
     "output_type": "execute_result"
    }
   ],
   "source": [
    "list(nx.bfs_successors(G, \"Natural Sciences\", 1))"
   ]
  },
  {
   "cell_type": "code",
   "execution_count": 13,
   "id": "8d31285f-c141-4421-bdb5-567dae239e9b",
   "metadata": {},
   "outputs": [
    {
     "data": {
      "text/plain": [
       "['Natural Sciences']"
      ]
     },
     "execution_count": 13,
     "metadata": {},
     "output_type": "execute_result"
    }
   ],
   "source": [
    "list(nx.ancestors(G, \"Mathematics\"))"
   ]
  },
  {
   "cell_type": "markdown",
   "id": "bc433e14-60ce-4b8f-bc4b-c63cae474c90",
   "metadata": {},
   "source": [
    "## Root nodes"
   ]
  },
  {
   "cell_type": "code",
   "execution_count": 14,
   "id": "e10825fd-dfcb-495b-ba69-9424f16068b9",
   "metadata": {},
   "outputs": [
    {
     "name": "stdout",
     "output_type": "stream",
     "text": [
      "Humanities 1\n",
      "Social and Behavioural Sciences 2\n",
      "Life Sciences 3\n",
      "Natural Sciences 4\n",
      "Engineering Sciences 5\n"
     ]
    }
   ],
   "source": [
    "for node in G.nodes:\n",
    "    degree = G.in_degree(node)\n",
    "    if degree == 0:\n",
    "        print(node, nx.get_node_attributes(G, 'label')[node])"
   ]
  },
  {
   "cell_type": "code",
   "execution_count": 15,
   "id": "035a993f-30e8-45d2-8fb4-cf473f13664a",
   "metadata": {},
   "outputs": [
    {
     "name": "stdout",
     "output_type": "stream",
     "text": [
      "Humanities\n",
      "['Ancient Cultures', 'History', 'Fine Arts, Music, Theatre and Media Studies', 'Linguistics', 'Literary Studies', 'Social and Cultural Anthropology', 'Theology and Religion Studies', 'Philosophy']\n",
      "\n",
      "Social and Behavioural Sciences\n",
      "['Education Sciences', 'Psychology', 'Social Sciences', 'Economics', 'Jurisprudence']\n",
      "\n",
      "Life Sciences\n",
      "['Biology', 'Medicine', 'Agriculture, Forestry, Horticulture, Aquaculture and Veterinary Medicine']\n",
      "\n",
      "Natural Sciences\n",
      "['Chemistry', 'Physics', 'Mathematics', 'Geosciences']\n",
      "\n",
      "Engineering Sciences\n",
      "['Mechanical and industrial Engineering', 'Thermal Engineering/Process Engineering', 'Materials Science and Engineering', 'Computer Science, Electrical and System Engineering', 'Construction Engineering and Architecture']\n",
      "\n"
     ]
    }
   ],
   "source": [
    "for node in G.nodes:\n",
    "    degree = len(list(nx.ancestors(G, node)))\n",
    "    if degree == 0:\n",
    "        print(node)\n",
    "        print(list(G.successors(node)))\n",
    "        print()"
   ]
  },
  {
   "cell_type": "markdown",
   "id": "25da95dd-11db-46e8-9ade-f23d3e36128f",
   "metadata": {},
   "source": [
    "## Leaf nodes"
   ]
  },
  {
   "cell_type": "code",
   "execution_count": 16,
   "id": "cc9bd815-39c4-4b86-bc5c-c075fe465fd4",
   "metadata": {},
   "outputs": [
    {
     "data": {
      "text/plain": [
       "275"
      ]
     },
     "execution_count": 16,
     "metadata": {},
     "output_type": "execute_result"
    }
   ],
   "source": [
    "leafs = []\n",
    "for node in G.nodes:\n",
    "    degree = G.out_degree(node)\n",
    "    if degree == 0:\n",
    "        # print(node)\n",
    "        leafs.append(node)\n",
    "len(leafs)"
   ]
  },
  {
   "cell_type": "markdown",
   "id": "b0eaf86f-97bb-4cd3-8744-99adb6d91e58",
   "metadata": {},
   "source": [
    "## Store as yaml"
   ]
  },
  {
   "cell_type": "code",
   "execution_count": 17,
   "id": "6488632c-e261-4b7b-acd4-928e6277ffab",
   "metadata": {},
   "outputs": [],
   "source": [
    "def node_name(node, with_label=False):\n",
    "    label = node_label(node)\n",
    "    if with_label and label:\n",
    "        name = f\"{label}#{node}\"\n",
    "    else:\n",
    "        name = node\n",
    "    return name\n",
    "\n",
    "def node_label(node):\n",
    "    labels = nx.get_node_attributes(G, \"label\")\n",
    "    return labels.get(node)\n",
    "\n",
    "def sort_nodes(nodes):\n",
    "    return sorted(nodes, key=node_label)\n",
    "\n",
    "def root_nodes():\n",
    "    nodes = []\n",
    "    for node in G.nodes:\n",
    "        degree = G.in_degree(node)\n",
    "        if degree == 0:\n",
    "            nodes.append(node)\n",
    "    return nodes\n",
    "\n",
    "def build_forest(nodes, with_labels=False):\n",
    "    forest = {'root': []}\n",
    "    for node in sort_nodes(nodes):\n",
    "        name = node_name(node, with_labels)\n",
    "        forest['root'].append(build_tree(node, with_labels))\n",
    "    return forest\n",
    "\n",
    "def build_tree(node, with_labels=False):\n",
    "    children = list(G.successors(node))\n",
    "    name = node_name(node, with_labels)\n",
    "    if children:\n",
    "        # node with children\n",
    "        tree = {}\n",
    "        tree[name] = []\n",
    "        for child in sort_nodes(children):\n",
    "            tree[name].append(build_tree(child, with_labels))\n",
    "    else:\n",
    "        # leaf node\n",
    "        tree = name\n",
    "    return tree"
   ]
  },
  {
   "cell_type": "code",
   "execution_count": 28,
   "id": "1a3c113e-9c2d-4d33-aec2-c3e972301b54",
   "metadata": {},
   "outputs": [
    {
     "name": "stdout",
     "output_type": "stream",
     "text": [
      "- Humanities:\n",
      "  - Ancient Cultures:\n",
      "    - Prehistory\n",
      "    - Classical Philology\n",
      "    - Ancient History\n",
      "    - Classical Archaeology\n",
      "    - Archaeology\n",
      "    - Egyptology and Ancient Near Eastern Studies\n",
      "  - History:\n",
      "    - Medieval History\n",
      "    - Early Modern History\n",
      "    - Modern and Current History\n",
      "    - History of Science\n",
      "    - History of Political Thought\n",
      "  - Fine Arts, Music, Theatre and Media Studies:\n",
      "    - Art History\n",
      "    - Fine Arts\n",
      "    - Dance\n",
      "    - Theater\n",
      "    - Film studies\n",
      "    - Photography\n",
      "    - Music\n",
      "    - Design\n",
      "    - Mixed Media and Media Studies\n",
      "  - Linguistics:\n",
      "    - General and Applied Linguistics\n",
      "    - Individual Linguistics\n",
      "    - Non-European Languages,Historical Linguistics\n",
      "    - Typology, Etymology, Morphology, Phonetics\n",
      "  - Literary Studies:\n",
      "    - Medieval European Literature\n",
      "    - Modern European Literature\n",
      "    - North American Literature\n",
      "    - South American Literature\n",
      "    - African Literature\n",
      "    - Asian Literature\n",
      "    - Australia/Oceania Literature\n",
      "    - Literary Theory and Comparative Literature\n",
      "    - Poetry\n",
      "  - Social and Cultural Anthropology:\n",
      "    - Social and Cultural Anthropology and Ethnology/Folklore\n",
      "    - Asian Studies\n",
      "    - African, American and Oceania Studies\n",
      "    - Arabian Studies, Semitic Studies\n",
      "  - Theology and Religion Studies:\n",
      "    - Protestant Theology\n",
      "    - Roman Catholic Theology\n",
      "    - Jewish Studies\n",
      "    - Islam Studies\n",
      "    - Indian Religions\n",
      "    - East Asian Religions\n",
      "    - Comparative Religion Studies\n",
      "    - Mythology\n",
      "  - Philosophy:\n",
      "    - History of Philosophy\n",
      "    - Theoretical Philosophy\n",
      "    - Practical Philosophy\n",
      "- Social and Behavioural Sciences:\n",
      "  - Education Sciences:\n",
      "    - General Education and History of Education\n",
      "    - Research on Teaching, Learning and Training\n",
      "    - Research on Socialization and Educational Institutions and Professionsy\n",
      "  - Psychology:\n",
      "    - General, Biological and Mathematical Psychology\n",
      "    - Developmental and Educational Psychology\n",
      "    - Social Psychology, Industrial and Organisational Psychology\n",
      "    - Differential Psychology, Clinical Psychology, Medical Psychology, Methodology\n",
      "  - Social Sciences:\n",
      "    - Sociological Theory\n",
      "    - Empirical Social Research\n",
      "    - Communication Science\n",
      "    - Political Science\n",
      "  - Economics:\n",
      "    - Economic Theory\n",
      "    - Economic and Social Policy\n",
      "    - Public Finance\n",
      "    - Business Administration\n",
      "    - Statistics and Econometrics\n",
      "    - Economic and Social History\n",
      "    - Business and Management\n",
      "  - Jurisprudence:\n",
      "    - Legal and Political Philosophy, Legal History, Legal Theory\n",
      "    - Private Law\n",
      "    - Public Law\n",
      "    - Criminal Law and Law of Criminal Procedure\n",
      "    - Criminology\n",
      "    - Law\n",
      "- Life Sciences:\n",
      "  - Biology:\n",
      "    - Basic Biological and Medical Research:\n",
      "      - Biochemistry\n",
      "      - Biophysics\n",
      "      - Cell Biology\n",
      "      - Structural Biology\n",
      "      - General Genetics\n",
      "      - Developmental Biology\n",
      "      - Bioinformatics and Theoretical Biology\n",
      "      - Anatomy\n",
      "      - Omics\n",
      "    - Plant Sciences:\n",
      "      - Plant Systematics and Evolution\n",
      "      - Plant Ecology and Ecosystem Analysis\n",
      "      - Inter-organismic Interactions of Plants\n",
      "      - Plant Physiology\n",
      "      - Plant Biochemistry and Biophysics\n",
      "      - Plant Cell and Developmental Biology\n",
      "      - Plant Genetics\n",
      "    - Zoology:\n",
      "      - Systematics and Morphology\n",
      "      - Evolution, Anthropology\n",
      "      - Animal Ecology, Biodiversity and Ecosystem Research\n",
      "      - Sensory and Behavioural Biology\n",
      "      - Biochemistry and Animal Physiology\n",
      "      - Animal Genetics, Cell and Developmental Biology\n",
      "  - Medicine:\n",
      "    - Microbiology, Virology and Immunology:\n",
      "      - Metabolism, Biochemistry and Genetics of Microorganisms\n",
      "      - Microbial Ecology and Applied Microbiology\n",
      "      - Medical Microbiology, Molecular Infection Biology\n",
      "      - Virology\n",
      "      - Immunology\n",
      "    - Medicine and Health:\n",
      "      - Epidemiology, Medical Biometry, Medical Informatics\n",
      "      - Public Health, Health Services Research, Social Medicine\n",
      "      - Human Genetics\n",
      "      - Physiology\n",
      "      - Nutritional Sciences\n",
      "      - Pathology and Forensic Medicine\n",
      "      - Clinical Chemistry and Pathobiochemistry\n",
      "      - Pharmacy\n",
      "      - Pharmacology\n",
      "      - Toxicology and Occupational Medicine\n",
      "      - Anaesthesiology\n",
      "      - Cardiology, Angiology\n",
      "      - Pneumology, Clinical Infectiology Intensive Care Medicine\n",
      "      - Hematology, Oncology, Transfusion Medicine\n",
      "      - Gastroenterology, Metabolism\n",
      "      - Nephrology\n",
      "      - Endocrinology, Diabetology\n",
      "      - Rheumatology, Clinical Immunology, Allergology\n",
      "      - Dermatology\n",
      "      - Pediatric and Adolescent Medicine\n",
      "      - Gynaecology and Obstetrics\n",
      "      - Reproductive Medicine/Biology\n",
      "      - Urology\n",
      "      - Gerontology and Geriatric Medicine\n",
      "      - Vascular and Visceral Surgery\n",
      "      - Cardiothoracic Surgery\n",
      "      - Traumatology and Orthopaedics\n",
      "      - Dentistry, Oral Surgery\n",
      "      - Otolaryngology\n",
      "      - Radiology and Nuclear Medicine\n",
      "      - Radiation Oncology and Radiobiology\n",
      "      - Biomedical Technology and Medical Physics\n",
      "    - Neurosciences:\n",
      "      - Molecular Neuroscience and Neurogenetics\n",
      "      - Cellular Neuroscience\n",
      "      - Developmental Neurobiology\n",
      "      - Systemic Neuroscience, Computational Neuroscience, Behaviour\n",
      "      - Comparative Neurobiology\n",
      "      - Cognitive Neuroscience and Neuroimaging\n",
      "      - Molecular Neurology\n",
      "      - Neurology, Neurosurgery\n",
      "      - Psychotherapy, Psychosomatic Medicine\n",
      "      - Ophthalmology\n",
      "      - Biological Psychiatry\n",
      "  - Agriculture, Forestry, Horticulture, Aquaculture and Veterinary Medicine:\n",
      "    - Agriculture, Forestry, Horticulture, Aquaculture:\n",
      "      - Soil Sciences\n",
      "      - Plant Cultivation\n",
      "      - Plant Nutrition\n",
      "      - Ecology of Agricultural Landscapes\n",
      "      - Plant Breeding\n",
      "      - Phytomedicine\n",
      "      - Agricultural and Food Process Engineering\n",
      "      - Agricultural Economics and Sociology\n",
      "      - Forestry\n",
      "      - Silviculture\n",
      "      - Agricultural Sciences\n",
      "      - Farming Systems\n",
      "      - Aquaculture\n",
      "      - Food Safety\n",
      "    - Veterinary Medicine:\n",
      "      - Animal Husbandry, Breeding and Hygiene\n",
      "      - Animal Nutrition and Nutrition Physiology\n",
      "      - Basic Veterinary Medical Science\n",
      "      - Basic Research on Pathogenesis, Diagnostics and Therapy and Clinical Veterinary\n",
      "        Medicine\n",
      "- Natural Sciences:\n",
      "  - Chemistry:\n",
      "    - Molecular Chemistry:\n",
      "      - Inorganic Molecular Chemistry\n",
      "      - Organic Molecular Chemistry\n",
      "    - Chemical Solid State and Surface Research:\n",
      "      - Solid State and Surface Chemistry, Material Synthesis\n",
      "      - Physical Chemistry of Solids and Surfaces, Material Characterisation\n",
      "      - Theory and Modelling\n",
      "    - Physical and Theoretical Chemistry:\n",
      "      - Physical Chemistry of Molecules, Interfaces and Liquids - Spectroscopy, Kinetics\n",
      "      - General Theoretical Chemistry\n",
      "    - Analytical Chemistry, Method Development\n",
      "    - Biological Chemistry and Food Chemistry:\n",
      "      - Biological and Biomimetic Chemistry\n",
      "      - Food Chemistry\n",
      "    - Polymer Research:\n",
      "      - Preparatory and Physical Chemistry of Polymers\n",
      "      - Experimental and Theoretical Physics of Polymers\n",
      "      - Polymer Materials\n",
      "  - Physics:\n",
      "    - Condensed Matter Physics:\n",
      "      - Experimental Condensed Matter Physics\n",
      "      - Theoretical Condensed Matter Physics\n",
      "    - Optics, Quantum Optics and Physics of Atoms, Molecules and Plasmas\n",
      "    - Particles, Nuclei and Fields\n",
      "    - Statistical Physics, Soft Matter, Biological Physics, Nonlinear Dynamics\n",
      "    - Astrophysics and Astronomy:\n",
      "      - Astrophysical Processes\n",
      "      - Cosmology\n",
      "      - Exoplanet Astronomy\n",
      "      - Galactic and extragalactic Astronomy\n",
      "      - High Energy Astrophysics\n",
      "      - Interdisciplinary Astronomy\n",
      "      - Interstellar medium\n",
      "      - Observational Astronomy\n",
      "      - Solar Physics\n",
      "      - Solar System Astronomy\n",
      "      - Stellar Astronomy\n",
      "    - Space Physics:\n",
      "      - Physics of atmosphere and space plasmas\n",
      "      - Magnetospheric physics\n",
      "      - Solar-terrestrial interaction, Space weather\n",
      "      - Space debris and near-Earth objects\n",
      "  - Mathematics:\n",
      "    - Approximation Theory\n",
      "    - Numerical Analysis\n",
      "    - Dynamical Systems\n",
      "    - Cryptography\n",
      "    - Logic\n",
      "  - Geosciences:\n",
      "    - Atmospheric Sciences:\n",
      "      - Meteorology\n",
      "      - Climatology\n",
      "      - Atmospheric chemistry\n",
      "      - Atmospheric physics\n",
      "      - Aeronomy\n",
      "      - Ionospheric physics\n",
      "    - Biospheric Sciences:\n",
      "      - Biogeochemistry\n",
      "      - Biogeography\n",
      "      - Ecology\n",
      "      - Geoarchaeology\n",
      "      - Geomicrobiology\n",
      "      - Paleontology\n",
      "    - Hydrospheric Sciences:\n",
      "      - Hydrology and Hydrogeology\n",
      "      - Limnology, Urban Water Management, Water Chemistry, Integrated Water Resources\n",
      "        Management\n",
      "    - Oceanography/Marine Science:\n",
      "      - Physical Oceanography\n",
      "      - Chemical Oceanography\n",
      "      - Marine Biodiversity\n",
      "    - Geospheric Sciences:\n",
      "      - Geology\n",
      "      - Geography\n",
      "      - Geochemistry/Mineralogy and Crystallography/Petrology\n",
      "      - Geophysics/Seismology\n",
      "      - Geodesy, Geoinformatics and Remote Sensing\n",
      "      - Glaciology\n",
      "      - Volcanology\n",
      "    - Earth System Research\n",
      "    - Environmental Research:\n",
      "      - Environmental Monitoring\n",
      "      - Earth and Environmental Science\n",
      "      - Land Use\n",
      "- Engineering Sciences:\n",
      "  - Mechanical and industrial Engineering:\n",
      "    - Production Technology:\n",
      "      - Metal-Cutting Manufacturing Engineering\n",
      "      - Primary Shaping and Reshaping Technology\n",
      "      - Micro-, Precision, Mounting, Joining, Separation Technology\n",
      "      - Plastics Engineering\n",
      "      - Production Automation, Factory Operation, Operations Manangement\n",
      "    - Mechanics and Constructive Mechanical Engineering:\n",
      "      - Construction, Machine Elements\n",
      "      - Mechanics\n",
      "      - Lightweight Construction, Textile Technology\n",
      "      - Acoustics\n",
      "  - Thermal Engineering/Process Engineering:\n",
      "    - Process Engineering, Technical Chemistry:\n",
      "      - Chemical and Thermal Process Engineering\n",
      "      - Technical Chemistry\n",
      "      - Mechanical Process Engineering\n",
      "      - Biological Process Engineering\n",
      "    - Heat Energy Technology, Thermal Machines, Fluid Mechanics:\n",
      "      - Energy Process Engineering\n",
      "      - Technical Thermodynamics\n",
      "      - Fluid Mechanics\n",
      "      - Hydraulic and Turbo Engines and Piston Engines\n",
      "  - Materials Science and Engineering:\n",
      "    - Materials Engineering:\n",
      "      - Metallurgical and Thermal Processes, Thermomechanical Treatment of Materials\n",
      "      - Sintered Metallic and Ceramic Materials\n",
      "      - Composite Materials\n",
      "      - Mechanical Behaviour of Construction Materials\n",
      "      - Coating and Surface Technology\n",
      "    - Materials Science:\n",
      "      - Thermodynamics and Kinetics of Materials\n",
      "      - Synthesis and Properties of Functional Materials\n",
      "      - Microstructural Mechanical Properties of Materials\n",
      "      - Structuring and Functionalisation\n",
      "      - Biomaterials\n",
      "  - Computer Science, Electrical and System Engineering:\n",
      "    - Systems Engineering:\n",
      "      - Automation, Control Systems, Robotics, Mechatronics\n",
      "      - Measurement Systems\n",
      "      - Microsystems\n",
      "      - Traffic and Transport Systems, Logistics\n",
      "      - Human Factors, Ergonomics, Human-Machine Systems\n",
      "    - Electrical Engineering:\n",
      "      - Electronic Semiconductors, Components, Circuits, Systems\n",
      "      - Communication, High-Frequency and Network Technology, Theoretical Electrical\n",
      "        Engineering\n",
      "      - Electrical Energy Generation, Distribution, Application\n",
      "      - Radio Science and Radar Technology\n",
      "    - Computer Science:\n",
      "      - Theoretical Computer Science\n",
      "      - Software Technology\n",
      "      - Operating, Communication, Library and Information Systems\n",
      "      - Artificial Intelligence, Image and Language Processing\n",
      "      - Computer Architecture, Computer Engineering and Embedded Systems\n",
      "      - Information Science\n",
      "      - Research Data Management\n",
      "  - Construction Engineering and Architecture:\n",
      "    - Architecture, Building and Construction History, Sustainable Building Technology,\n",
      "      Building Design\n",
      "    - Urbanism, Spatial Planning, Transportation and Infrastructure Planning, Landscape\n",
      "      Planning\n",
      "    - Construction Material Sciences, Chemistry, Building Physics\n",
      "    - Sructural Engineering, Building Informatics, Construction Operation\n",
      "    - Applied Mechanics, Statics and Dynamics\n",
      "    - Engineering\n",
      "\n"
     ]
    }
   ],
   "source": [
    "forest = build_forest(root_nodes(), with_labels=False)['root']\n",
    "print(yaml.dump(forest))"
   ]
  },
  {
   "cell_type": "code",
   "execution_count": 29,
   "id": "07dfe9f1-74cd-4d67-b765-261d3024e84f",
   "metadata": {},
   "outputs": [],
   "source": [
    "# nx.get_node_attributes(G, \"label\")"
   ]
  },
  {
   "cell_type": "code",
   "execution_count": 30,
   "id": "b608bfc3-0ab5-422d-81f0-a75e521b5c6f",
   "metadata": {},
   "outputs": [],
   "source": [
    "yaml.dump(forest, open(\"../etc/b2find_disciplines.yaml\", \"w\"))"
   ]
  },
  {
   "cell_type": "markdown",
   "id": "fa8d578c-0c39-480b-a194-029ed51bb113",
   "metadata": {},
   "source": [
    "## Read from yaml"
   ]
  },
  {
   "cell_type": "code",
   "execution_count": 21,
   "id": "f921d686-4e9c-488c-aeca-5828b7b3c3d4",
   "metadata": {},
   "outputs": [],
   "source": [
    "disciplines = yaml.safe_load(open(\"../etc/b2find_disciplines.yaml\"))\n",
    "# disciplines"
   ]
  },
  {
   "cell_type": "code",
   "execution_count": 22,
   "id": "017dffaf-7aa6-45b4-a194-d3662d02b7a6",
   "metadata": {},
   "outputs": [],
   "source": [
    "#G = nx.DiGraph()\n",
    "#attributes = {}"
   ]
  },
  {
   "cell_type": "code",
   "execution_count": 23,
   "id": "b1cbd498-8fc5-4ac3-94a6-c3bdf637eaa5",
   "metadata": {},
   "outputs": [],
   "source": [
    "def read_tree(node, others):\n",
    "    if isinstance(others, dict):\n",
    "        for key in others.keys():\n",
    "            attributes[node] = {\"label\": \"1\"}\n",
    "            G.add_edge(node, key)\n",
    "            read_tree(key, others[key])\n",
    "    elif isinstance(others, list):\n",
    "        for val in others:\n",
    "            read_tree(node, val)\n",
    "    elif isinstance(others, str):\n",
    "        attributes[node] = {\"label\": \"1\"}\n",
    "        G.add_edge(node, others)"
   ]
  },
  {
   "cell_type": "code",
   "execution_count": 24,
   "id": "796aa37a-93b4-4cd9-86e5-2d325aafa114",
   "metadata": {},
   "outputs": [],
   "source": [
    "#read_tree('root', disciplines)\n",
    "#nx.set_node_attributes(G, attributes)"
   ]
  },
  {
   "cell_type": "code",
   "execution_count": 25,
   "id": "5933ccb5-404c-4190-a753-cb4bd2aaa3dc",
   "metadata": {},
   "outputs": [],
   "source": [
    "#list(G.nodes())[0]"
   ]
  },
  {
   "cell_type": "code",
   "execution_count": 26,
   "id": "ee0d0cd3-f358-49e7-bfb6-5622b170b3d9",
   "metadata": {},
   "outputs": [],
   "source": [
    "#G.number_of_nodes()"
   ]
  },
  {
   "cell_type": "code",
   "execution_count": 27,
   "id": "3a5b69d4-ef65-43e0-8c15-fa62860118a4",
   "metadata": {},
   "outputs": [],
   "source": [
    "#forest = build_forest([\"root\"], True)['root']\n",
    "#print(yaml.dump(forest))"
   ]
  }
 ],
 "metadata": {
  "kernelspec": {
   "display_name": "Python 3 (ipykernel)",
   "language": "python",
   "name": "python3"
  },
  "language_info": {
   "codemirror_mode": {
    "name": "ipython",
    "version": 3
   },
   "file_extension": ".py",
   "mimetype": "text/x-python",
   "name": "python",
   "nbconvert_exporter": "python",
   "pygments_lexer": "ipython3",
   "version": "3.8.13"
  }
 },
 "nbformat": 4,
 "nbformat_minor": 5
}
