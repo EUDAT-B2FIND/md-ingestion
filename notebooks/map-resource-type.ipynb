{
 "cells": [
  {
   "cell_type": "code",
   "execution_count": 1,
   "id": "5ab7b2ba-b026-4115-a3bb-e9f94853f0e9",
   "metadata": {},
   "outputs": [],
   "source": [
    "import re"
   ]
  },
  {
   "cell_type": "code",
   "execution_count": 2,
   "id": "db1829ff-a6e7-470c-a4d1-ce8d80f2d7ac",
   "metadata": {},
   "outputs": [],
   "source": [
    "oartlist=['Audiovisual','Collection','Dataset','Event',\n",
    "          'Image','InteractiveResource','Model','PhysicalObject',\n",
    "          'Service','Software','Sound','Text','Workflow']\n",
    "oartlistlow=[v.lower() for v in oartlist ]\n",
    "\n",
    "socfin=['Kvantitatiivinen','Kvalitatiivinen','Quantitative','Qualitative'] \n",
    "socfinlow=[v.lower() for v in socfin ]\n",
    "\n",
    "def _map_resource_type(values):\n",
    "    rtg='Other'\n",
    "    for value in values:\n",
    "#    if len(values) == 2 and values[1]=='Dataset':\n",
    "#        rtg=values[1]\n",
    "#    else:        \n",
    "        val = value.lower()\n",
    "        if val in oartlistlow :\n",
    "            index=oartlistlow.index(val)\n",
    "            rtg = oartlist[index]\n",
    "        elif re.search(r'.*photo|image.*', val):\n",
    "            rtg = 'Image'\n",
    "        elif re.search(r'.*data|questionnaire.*', val):\n",
    "            rtg = 'Dataset'\n",
    "        elif re.search(r'.*computer program|jupyter|software|source code.*', val):\n",
    "            rtg = 'Software'\n",
    "        elif re.search(r'journal article', val):\n",
    "            rtg = 'Article'\n",
    "        elif re.search(r'.*audio.*', val):\n",
    "            rtg = 'Audiovisual'\n",
    "        elif re.search(r'conference paper', val):\n",
    "            rtg = 'Conference object'\n",
    "        elif re.search(r'^(verse|prose|non-fiction|drama)$',val):\n",
    "            rtg = 'Text'\n",
    "        elif val in socfinlow :\n",
    "            rtg = 'Text'            \n",
    "        else:\n",
    "            rtg = 'Other'\n",
    "        if rtg != 'Other':\n",
    "            break\n",
    "    return rtg"
   ]
  },
  {
   "cell_type": "code",
   "execution_count": 3,
   "id": "6189fa0f-970e-46b5-bf68-f581240f6c59",
   "metadata": {},
   "outputs": [
    {
     "data": {
      "text/plain": [
       "'Text'"
      ]
     },
     "execution_count": 3,
     "metadata": {},
     "output_type": "execute_result"
    }
   ],
   "source": [
    "_map_resource_type(['non-fiction'])"
   ]
  }
 ],
 "metadata": {
  "kernelspec": {
   "display_name": "Python 3 (ipykernel)",
   "language": "python",
   "name": "python3"
  },
  "language_info": {
   "codemirror_mode": {
    "name": "ipython",
    "version": 3
   },
   "file_extension": ".py",
   "mimetype": "text/x-python",
   "name": "python",
   "nbconvert_exporter": "python",
   "pygments_lexer": "ipython3",
   "version": "3.8.16"
  }
 },
 "nbformat": 4,
 "nbformat_minor": 5
}
