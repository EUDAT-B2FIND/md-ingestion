{
 "cells": [
  {
   "cell_type": "markdown",
   "id": "8d55e020-3db6-4bc1-9c5b-bb021df2c0ce",
   "metadata": {},
   "source": [
    "# Demo harvest LAGO\n",
    "\n",
    "https://docs.google.com/document/d/1F_VVOiU_Mbf6rXRpmgQU09CHdYE4XLAJ6lrdWR4qYU0/edit"
   ]
  },
  {
   "cell_type": "code",
   "execution_count": null,
   "id": "93272c8c-004d-4498-94cf-72821e7a2ca7",
   "metadata": {},
   "outputs": [],
   "source": [
    "from sickle import Sickle\n",
    "from bs4 import BeautifulSoup\n",
    "from io import StringIO \n",
    "import requests"
   ]
  },
  {
   "cell_type": "markdown",
   "id": "76936cb4-dcf1-4670-8f8c-a3a2a1c4991a",
   "metadata": {},
   "source": [
    "## Get IDs from OAI"
   ]
  },
  {
   "cell_type": "code",
   "execution_count": null,
   "id": "5603b715-8470-43df-984d-a9bb7cadc7ca",
   "metadata": {},
   "outputs": [],
   "source": [
    "sickle = Sickle(\"http://datahub.egi.eu/oai_pmh\")"
   ]
  },
  {
   "cell_type": "code",
   "execution_count": null,
   "id": "63ff41a2-2574-4437-b32a-f4b29e29db7f",
   "metadata": {},
   "outputs": [],
   "source": [
    "records = sickle.ListIdentifiers(**{\n",
    "    'metadataPrefix': 'oai_dc',\n",
    "    'set': '986fe2ab97a6b749fac17eb9e9b38c37chb045',\n",
    "    'ignore_deleted': True,\n",
    "    #'from': self.fromdate,\n",
    "})\n",
    "for rec in records:\n",
    "    print(rec.identifier)"
   ]
  },
  {
   "cell_type": "code",
   "execution_count": null,
   "id": "98146134-99a9-4275-b8fb-465fcf3fb06f",
   "metadata": {},
   "outputs": [],
   "source": [
    "records = sickle.ListRecords(**{\n",
    "    'metadataPrefix': 'oai_dc',\n",
    "    'set': '986fe2ab97a6b749fac17eb9e9b38c37chb045',\n",
    "    'ignore_deleted': True,\n",
    "    #'from': self.fromdate,\n",
    "})\n",
    "\n",
    "share_ids = []\n",
    "for rec in records:\n",
    "    # print(rec)\n",
    "    doc = BeautifulSoup(StringIO(rec.raw), 'xml')\n",
    "    ids = doc.find_all('identifier')\n",
    "    # print(ids)\n",
    "    id = [id for id in ids if id.text.startswith('https://datahub.egi.eu/share')][0]\n",
    "    # print(id.text)\n",
    "    share_id = id.text.split('/')[-1]\n",
    "    print(share_id)\n",
    "    share_ids.append(share_id)"
   ]
  },
  {
   "cell_type": "markdown",
   "id": "fdc7f514-cb2f-4bde-9d0a-300dd0cfbff0",
   "metadata": {},
   "source": [
    "## Get Record file_id from datahub"
   ]
  },
  {
   "cell_type": "code",
   "execution_count": null,
   "id": "1afb41d6-0f22-40c6-8dad-7a97cc73ac2a",
   "metadata": {},
   "outputs": [],
   "source": [
    "ds_ids = []\n",
    "for share_id in share_ids:\n",
    "    url = f\"https://datahub.egi.eu/api/v3/onezone/shares/{share_id}/public\"\n",
    "    resp = requests.get(url)\n",
    "    # print(resp.json())\n",
    "    ds_id = resp.json()['rootFileId']\n",
    "    print(ds_id)\n",
    "    ds_ids.append(ds_id)"
   ]
  },
  {
   "cell_type": "markdown",
   "id": "bb6e6875-c788-4dbc-9e7a-a1abab85979b",
   "metadata": {},
   "source": [
    "## Get contents of dataset"
   ]
  },
  {
   "cell_type": "code",
   "execution_count": null,
   "id": "29f8af63-274e-479c-9c3c-f1e24076c76b",
   "metadata": {},
   "outputs": [],
   "source": [
    "file_ids = []\n",
    "for ds_id in ds_ids:\n",
    "    url = f\"https://datahub.egi.eu/api/v3/onezone/shares/data/{ds_id}/children?limit=2\"\n",
    "    resp = requests.get(url)\n",
    "    # print(resp.json())\n",
    "    for child in resp.json()['children']:\n",
    "        file_id = child['id']\n",
    "        print(file_id)\n",
    "        file_ids.append(file_id)\n",
    "    "
   ]
  },
  {
   "cell_type": "markdown",
   "id": "a277e22e-49b6-402f-be20-6586829c03a8",
   "metadata": {},
   "source": [
    "## Iterate over files"
   ]
  },
  {
   "cell_type": "code",
   "execution_count": null,
   "id": "2c668588-52bf-41c3-84e8-219262823291",
   "metadata": {},
   "outputs": [],
   "source": [
    "for ds_id in ds_ids:\n",
    "    url = f\"https://datahub.egi.eu/api/v3/onezone/shares/data/{ds_id}/metadata/json\"\n",
    "    resp = requests.get(url)\n",
    "    # print(resp.json())\n",
    "    print(\"title:\", resp.json()['title'])\n",
    "    print(\"description:\", resp.json()['description'])\n",
    "    print(\"number of datasets:\", len(resp.json().get('dataset', [])))"
   ]
  }
 ],
 "metadata": {
  "kernelspec": {
   "display_name": "Python 3 (ipykernel)",
   "language": "python",
   "name": "python3"
  },
  "language_info": {
   "codemirror_mode": {
    "name": "ipython",
    "version": 3
   },
   "file_extension": ".py",
   "mimetype": "text/x-python",
   "name": "python",
   "nbconvert_exporter": "python",
   "pygments_lexer": "ipython3",
   "version": "3.8.12"
  }
 },
 "nbformat": 4,
 "nbformat_minor": 5
}
