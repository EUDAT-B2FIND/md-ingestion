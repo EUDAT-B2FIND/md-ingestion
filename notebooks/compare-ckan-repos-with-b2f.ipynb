{
 "cells": [
  {
   "cell_type": "markdown",
   "id": "13300d5e-25ce-4342-84a1-06a70cc5a8fd",
   "metadata": {},
   "source": [
    "# Compare CKAN repositories with b2f md-ingestion"
   ]
  },
  {
   "cell_type": "markdown",
   "id": "ba6709dd-f77b-4981-b499-ef387206d0a7",
   "metadata": {},
   "source": [
    "## ckan organisations"
   ]
  },
  {
   "cell_type": "code",
   "execution_count": 1,
   "id": "88fe7d67-14d6-4e26-912f-414de6b36df0",
   "metadata": {},
   "outputs": [
    {
     "data": {
      "text/plain": [
       "93"
      ]
     },
     "execution_count": 1,
     "metadata": {},
     "output_type": "execute_result"
    }
   ],
   "source": [
    "import requests\n",
    "\n",
    "ckan_base_url = \"https://b2find.eudat.eu\"\n",
    "orgs_api_endpoint = f\"{ckan_base_url}/api/3/action/organization_list\"\n",
    "\n",
    "response = requests.get(orgs_api_endpoint)\n",
    "response.raise_for_status()\n",
    "\n",
    "data = response.json()\n",
    "ckan_orgs = data['result']\n",
    "ckan_orgs = set(ckan_orgs)\n",
    "len(ckan_orgs)\n"
   ]
  },
  {
   "cell_type": "markdown",
   "id": "f58e3735-4af9-4376-8b40-96c5a263e5a4",
   "metadata": {},
   "source": [
    "## b2f list of repositories"
   ]
  },
  {
   "cell_type": "code",
   "execution_count": 2,
   "id": "af400a23-637d-4787-8983-b7a4248c6936",
   "metadata": {},
   "outputs": [],
   "source": [
    "# ! b2f list -s"
   ]
  },
  {
   "cell_type": "code",
   "execution_count": 3,
   "id": "a1d437ea-b45d-44f4-bec4-a53c7575fcab",
   "metadata": {},
   "outputs": [],
   "source": [
    "from mdingestion.command import List"
   ]
  },
  {
   "cell_type": "code",
   "execution_count": 4,
   "id": "bbc4c0b4-0eab-4269-8bd0-babbb09e18ef",
   "metadata": {},
   "outputs": [],
   "source": [
    "cmd = List()"
   ]
  },
  {
   "cell_type": "code",
   "execution_count": 5,
   "id": "cbe4e55c-82a7-48a6-92e8-e5daa16899b7",
   "metadata": {},
   "outputs": [],
   "source": [
    "cmd.run(stat=True, out=\"b2f-repos.json\")"
   ]
  },
  {
   "cell_type": "code",
   "execution_count": 6,
   "id": "570840d8-f01c-4834-8f91-6f7e8f6f7c1f",
   "metadata": {},
   "outputs": [
    {
     "data": {
      "text/plain": [
       "93"
      ]
     },
     "execution_count": 6,
     "metadata": {},
     "output_type": "execute_result"
    }
   ],
   "source": [
    "import json\n",
    "b2f_repos = json.load(open(\"b2f-repos.json\"))\n",
    "b2f_repos = b2f_repos[\"Repository\"]\n",
    "del b2f_repos['Total Unique Keys']\n",
    "del b2f_repos['Total']\n",
    "\n",
    "b2f_repos = set(b2f_repos.keys())\n",
    "len(b2f_repos)"
   ]
  },
  {
   "cell_type": "markdown",
   "id": "72d459d1-69a1-4862-a2af-d884938afd5a",
   "metadata": {},
   "source": [
    "## compare ckan with b2f"
   ]
  },
  {
   "cell_type": "code",
   "execution_count": 7,
   "id": "993aaea9-b360-46e7-a829-bb9762f06532",
   "metadata": {},
   "outputs": [
    {
     "data": {
      "text/plain": [
       "set()"
      ]
     },
     "execution_count": 7,
     "metadata": {},
     "output_type": "execute_result"
    }
   ],
   "source": [
    "ckan_orgs - b2f_repos"
   ]
  },
  {
   "cell_type": "code",
   "execution_count": 8,
   "id": "8fb27ef2-d0f8-4390-9435-4e920034e091",
   "metadata": {},
   "outputs": [
    {
     "data": {
      "text/plain": [
       "set()"
      ]
     },
     "execution_count": 8,
     "metadata": {},
     "output_type": "execute_result"
    }
   ],
   "source": [
    "b2f_repos - ckan_orgs"
   ]
  },
  {
   "cell_type": "markdown",
   "id": "ed5e5678-dd01-4872-8886-27fd41b293c5",
   "metadata": {},
   "source": [
    "## all ckan orgs"
   ]
  },
  {
   "cell_type": "code",
   "execution_count": 9,
   "id": "e682a5bb-cd82-4ee0-a56d-eba0b028ed95",
   "metadata": {},
   "outputs": [
    {
     "data": {
      "text/plain": [
       "['artsetmetiers',\n",
       " 'askeladden',\n",
       " 'bbmri',\n",
       " 'bluecloud',\n",
       " 'ceric',\n",
       " 'cessda',\n",
       " 'clarin',\n",
       " 'compbiomed',\n",
       " 'cora',\n",
       " 'crc1211db',\n",
       " 'dara',\n",
       " 'dariah-de',\n",
       " 'darus',\n",
       " 'datadoi',\n",
       " 'dataversenl',\n",
       " 'dataverseno',\n",
       " 'datice',\n",
       " 'deims',\n",
       " 'drga',\n",
       " 'drihm',\n",
       " 'ds_archaeology',\n",
       " 'ds_lifesciences',\n",
       " 'ds_physical_technical',\n",
       " 'ds_ssh',\n",
       " 'edmond',\n",
       " 'edpp',\n",
       " 'egidatahub',\n",
       " 'enmap',\n",
       " 'envidat',\n",
       " 'esrf',\n",
       " 'ess',\n",
       " 'eudat',\n",
       " 'euon',\n",
       " 'eurocordex',\n",
       " 'fidgeo',\n",
       " 'fidmove',\n",
       " 'fmi',\n",
       " 'geofon',\n",
       " 'gfzdataservices',\n",
       " 'gipp',\n",
       " 'heidata',\n",
       " 'helmholtz',\n",
       " 'hpc',\n",
       " 'hzb',\n",
       " 'icgem',\n",
       " 'icos',\n",
       " 'igets',\n",
       " 'ill',\n",
       " 'ingrid',\n",
       " 'inrae',\n",
       " 'inria',\n",
       " 'institutpasteur',\n",
       " 'intermagnet',\n",
       " 'isg',\n",
       " 'isis',\n",
       " 'ist',\n",
       " 'ivoa',\n",
       " 'kicos',\n",
       " 'lago',\n",
       " 'life-respira',\n",
       " 'lter',\n",
       " 'materialscloud',\n",
       " 'midas',\n",
       " 'nird',\n",
       " 'nrm',\n",
       " 'openebench',\n",
       " 'pangaea',\n",
       " 'pik',\n",
       " 'psi',\n",
       " 'radar',\n",
       " 'rda',\n",
       " 'rodare',\n",
       " 'sddb',\n",
       " 'sdr',\n",
       " 'seanoe',\n",
       " 'sextant',\n",
       " 'slks',\n",
       " 'sorbonneuniv',\n",
       " 'starsforall',\n",
       " 'tereno',\n",
       " 'textgrid',\n",
       " 'toar',\n",
       " 'tudatalib',\n",
       " 'tuw',\n",
       " 'ucl',\n",
       " 'uhh',\n",
       " 'ul',\n",
       " 'ulille',\n",
       " 'umontpellier',\n",
       " 'unistra',\n",
       " 'univgustaveeiffel',\n",
       " 'wdcc',\n",
       " 'wsm']"
      ]
     },
     "execution_count": 9,
     "metadata": {},
     "output_type": "execute_result"
    }
   ],
   "source": [
    "orgs = list(ckan_orgs)\n",
    "orgs.sort()\n",
    "orgs"
   ]
  },
  {
   "cell_type": "markdown",
   "id": "50db6872-239a-40b6-ac9f-5afab9c0d8bf",
   "metadata": {},
   "source": [
    "## all b2f repos"
   ]
  },
  {
   "cell_type": "code",
   "execution_count": 10,
   "id": "244206e4-2f4e-4c1b-abaa-f6807d82e1e3",
   "metadata": {},
   "outputs": [
    {
     "data": {
      "text/plain": [
       "['artsetmetiers',\n",
       " 'askeladden',\n",
       " 'bbmri',\n",
       " 'bluecloud',\n",
       " 'ceric',\n",
       " 'cessda',\n",
       " 'clarin',\n",
       " 'compbiomed',\n",
       " 'cora',\n",
       " 'crc1211db',\n",
       " 'dara',\n",
       " 'dariah-de',\n",
       " 'darus',\n",
       " 'datadoi',\n",
       " 'dataversenl',\n",
       " 'dataverseno',\n",
       " 'datice',\n",
       " 'deims',\n",
       " 'drga',\n",
       " 'drihm',\n",
       " 'ds_archaeology',\n",
       " 'ds_lifesciences',\n",
       " 'ds_physical_technical',\n",
       " 'ds_ssh',\n",
       " 'edmond',\n",
       " 'edpp',\n",
       " 'egidatahub',\n",
       " 'enmap',\n",
       " 'envidat',\n",
       " 'esrf',\n",
       " 'ess',\n",
       " 'eudat',\n",
       " 'euon',\n",
       " 'eurocordex',\n",
       " 'fidgeo',\n",
       " 'fidmove',\n",
       " 'fmi',\n",
       " 'geofon',\n",
       " 'gfzdataservices',\n",
       " 'gipp',\n",
       " 'heidata',\n",
       " 'helmholtz',\n",
       " 'hpc',\n",
       " 'hzb',\n",
       " 'icgem',\n",
       " 'icos',\n",
       " 'igets',\n",
       " 'ill',\n",
       " 'ingrid',\n",
       " 'inrae',\n",
       " 'inria',\n",
       " 'institutpasteur',\n",
       " 'intermagnet',\n",
       " 'isg',\n",
       " 'isis',\n",
       " 'ist',\n",
       " 'ivoa',\n",
       " 'kicos',\n",
       " 'lago',\n",
       " 'life-respira',\n",
       " 'lter',\n",
       " 'materialscloud',\n",
       " 'midas',\n",
       " 'nird',\n",
       " 'nrm',\n",
       " 'openebench',\n",
       " 'pangaea',\n",
       " 'pik',\n",
       " 'psi',\n",
       " 'radar',\n",
       " 'rda',\n",
       " 'rodare',\n",
       " 'sddb',\n",
       " 'sdr',\n",
       " 'seanoe',\n",
       " 'sextant',\n",
       " 'slks',\n",
       " 'sorbonneuniv',\n",
       " 'starsforall',\n",
       " 'tereno',\n",
       " 'textgrid',\n",
       " 'toar',\n",
       " 'tudatalib',\n",
       " 'tuw',\n",
       " 'ucl',\n",
       " 'uhh',\n",
       " 'ul',\n",
       " 'ulille',\n",
       " 'umontpellier',\n",
       " 'unistra',\n",
       " 'univgustaveeiffel',\n",
       " 'wdcc',\n",
       " 'wsm']"
      ]
     },
     "execution_count": 10,
     "metadata": {},
     "output_type": "execute_result"
    }
   ],
   "source": [
    "repos = list(b2f_repos)\n",
    "repos.sort()\n",
    "repos"
   ]
  }
 ],
 "metadata": {
  "kernelspec": {
   "display_name": "Python 3 (ipykernel)",
   "language": "python",
   "name": "python3"
  },
  "language_info": {
   "codemirror_mode": {
    "name": "ipython",
    "version": 3
   },
   "file_extension": ".py",
   "mimetype": "text/x-python",
   "name": "python",
   "nbconvert_exporter": "python",
   "pygments_lexer": "ipython3",
   "version": "3.8.20"
  }
 },
 "nbformat": 4,
 "nbformat_minor": 5
}
