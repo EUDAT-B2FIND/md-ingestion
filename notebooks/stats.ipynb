{
 "cells": [
  {
   "cell_type": "markdown",
   "id": "ac1f1bd4-a328-404a-b96d-41cbb04904c0",
   "metadata": {},
   "source": [
    "# Show current stats\n",
    "\n",
    "date: 2025.01.07"
   ]
  },
  {
   "cell_type": "code",
   "execution_count": 1,
   "id": "1fb383ed-01cb-41a7-9b8a-0ed99f06a83d",
   "metadata": {},
   "outputs": [],
   "source": [
    "import requests\n",
    "import json"
   ]
  },
  {
   "cell_type": "markdown",
   "id": "56fa3b40-1c85-43ba-8118-e59a41793f82",
   "metadata": {},
   "source": [
    "## Show CKAN organisations"
   ]
  },
  {
   "cell_type": "code",
   "execution_count": 2,
   "id": "2033823f-fdf7-4dd5-a41d-00ce4414c291",
   "metadata": {},
   "outputs": [],
   "source": [
    "ckan_url = \"b2find.eudat.eu\""
   ]
  },
  {
   "cell_type": "code",
   "execution_count": 3,
   "id": "7518d88e-cf92-4c8a-8edc-a6d474ed71c4",
   "metadata": {},
   "outputs": [
    {
     "data": {
      "text/plain": [
       "True"
      ]
     },
     "execution_count": 3,
     "metadata": {},
     "output_type": "execute_result"
    }
   ],
   "source": [
    "query = f\"https://{ckan_url}/api/3/action/organization_list\"\n",
    "\n",
    "resp = requests.get(query)\n",
    "resp.ok"
   ]
  },
  {
   "cell_type": "code",
   "execution_count": 4,
   "id": "a1cf3779-a516-423c-a378-1fabd1902b68",
   "metadata": {},
   "outputs": [
    {
     "data": {
      "text/plain": [
       "{'ahri',\n",
       " 'artsetmetiers',\n",
       " 'askeladden',\n",
       " 'bbmri',\n",
       " 'bifie',\n",
       " 'bluecloud',\n",
       " 'ceric',\n",
       " 'cessda',\n",
       " 'clarin',\n",
       " 'compbiomed',\n",
       " 'cora',\n",
       " 'crc1211db',\n",
       " 'dariah-de',\n",
       " 'darus',\n",
       " 'datadoi',\n",
       " 'dataversenl',\n",
       " 'dataverseno',\n",
       " 'datice',\n",
       " 'deims',\n",
       " 'dipf',\n",
       " 'drga',\n",
       " 'drihm',\n",
       " 'ds_archaeology',\n",
       " 'ds_lifesciences',\n",
       " 'ds_physical_technical',\n",
       " 'ds_ssh',\n",
       " 'dzhw',\n",
       " 'ebdc',\n",
       " 'edmond',\n",
       " 'edpp',\n",
       " 'egidatahub',\n",
       " 'enmap',\n",
       " 'envidat',\n",
       " 'esrf',\n",
       " 'ess',\n",
       " 'eudat',\n",
       " 'euon',\n",
       " 'eurocordex',\n",
       " 'fidgeo',\n",
       " 'fidmove',\n",
       " 'fmi',\n",
       " 'geofon',\n",
       " 'gfzdataservices',\n",
       " 'gipp',\n",
       " 'heidata',\n",
       " 'helmholtz',\n",
       " 'hpc',\n",
       " 'hzb',\n",
       " 'icgem',\n",
       " 'icos',\n",
       " 'igets',\n",
       " 'ihi',\n",
       " 'ill',\n",
       " 'ingrid',\n",
       " 'inrae',\n",
       " 'inria',\n",
       " 'institutpasteur',\n",
       " 'intermagnet',\n",
       " 'isg',\n",
       " 'isis',\n",
       " 'ist',\n",
       " 'ivoa',\n",
       " 'iwh',\n",
       " 'kicos',\n",
       " 'lago',\n",
       " 'life-respira',\n",
       " 'materialscloud',\n",
       " 'midas',\n",
       " 'nird',\n",
       " 'nrm',\n",
       " 'openebench',\n",
       " 'pangaea',\n",
       " 'pik',\n",
       " 'psi',\n",
       " 'radar',\n",
       " 'rda',\n",
       " 'rdc',\n",
       " 'rki',\n",
       " 'rodare',\n",
       " 'sddb',\n",
       " 'sdr',\n",
       " 'seanoe',\n",
       " 'sextant',\n",
       " 'slks',\n",
       " 'sorbonneuniv',\n",
       " 'srda',\n",
       " 'starsforall',\n",
       " 'tereno',\n",
       " 'textgrid',\n",
       " 'toar',\n",
       " 'tudatalib',\n",
       " 'tuw',\n",
       " 'ucl',\n",
       " 'uhh',\n",
       " 'ul',\n",
       " 'ulille',\n",
       " 'umontpellier',\n",
       " 'unistra',\n",
       " 'univgustaveeiffel',\n",
       " 'wdcc',\n",
       " 'wsm',\n",
       " 'zbw',\n",
       " 'zfkd'}"
      ]
     },
     "execution_count": 4,
     "metadata": {},
     "output_type": "execute_result"
    }
   ],
   "source": [
    "data = resp.json()\n",
    "orgs = data[\"result\"]\n",
    "orgs = set(orgs)\n",
    "orgs"
   ]
  },
  {
   "cell_type": "code",
   "execution_count": 5,
   "id": "187889cd-9852-4d4e-a15b-19508fb4b8f6",
   "metadata": {},
   "outputs": [
    {
     "data": {
      "text/plain": [
       "103"
      ]
     },
     "execution_count": 5,
     "metadata": {},
     "output_type": "execute_result"
    }
   ],
   "source": [
    "len(orgs)"
   ]
  },
  {
   "cell_type": "markdown",
   "id": "e183d79d-cd4e-4e72-8ab1-758505db0fb8",
   "metadata": {},
   "source": [
    "## b2find configure productive repos/orgs"
   ]
  },
  {
   "cell_type": "code",
   "execution_count": 6,
   "id": "c735b82e-2df8-489d-b801-36e82122ebc0",
   "metadata": {},
   "outputs": [],
   "source": [
    "!b2f list -s -o b2f_stats.json"
   ]
  },
  {
   "cell_type": "code",
   "execution_count": 7,
   "id": "5c040350-8098-412b-93e2-c0dc913e4de8",
   "metadata": {},
   "outputs": [],
   "source": [
    "b2f_stats = json.load(open(\"b2f_stats.json\"))\n",
    "# b2f_stats"
   ]
  },
  {
   "cell_type": "code",
   "execution_count": 8,
   "id": "89a7a8e0-362b-4fdb-a4cb-c37fafcfdbe2",
   "metadata": {},
   "outputs": [
    {
     "data": {
      "text/plain": [
       "{'uhh': '10',\n",
       " 'hzb': '2',\n",
       " 'eudat': '2',\n",
       " 'ahri': '1',\n",
       " 'materialscloud': '1',\n",
       " 'radar': '1',\n",
       " 'psi': '1',\n",
       " 'pik': '1',\n",
       " 'pangaea': '1',\n",
       " 'openebench': '1',\n",
       " 'nrm': '1',\n",
       " 'nird': '1',\n",
       " 'midas': '1',\n",
       " 'lago': '1',\n",
       " 'life-respira': '1',\n",
       " 'rdc': '1',\n",
       " 'kicos': '1',\n",
       " 'iwh': '1',\n",
       " 'ivoa': '1',\n",
       " 'ist': '1',\n",
       " 'isis': '1',\n",
       " 'isg': '1',\n",
       " 'isdc': '1',\n",
       " 'intermagnet': '1',\n",
       " 'rda': '1',\n",
       " 'rki': '1',\n",
       " 'inria': '1',\n",
       " 'ucl': '1',\n",
       " 'zbw': '1',\n",
       " 'wsm': '1',\n",
       " 'wdcc': '1',\n",
       " 'utjj': '1',\n",
       " 'univgustaveeiffel': '1',\n",
       " 'unistra': '1',\n",
       " 'umontpellier': '1',\n",
       " 'ulille': '1',\n",
       " 'ul': '1',\n",
       " 'tuw': '1',\n",
       " 'rodare': '1',\n",
       " 'tudatalib': '1',\n",
       " 'textgrid': '1',\n",
       " 'tereno': '1',\n",
       " 'starsforall': '1',\n",
       " 'srda': '1',\n",
       " 'sorbonneuniv': '1',\n",
       " 'sextant': '1',\n",
       " 'seanoe': '1',\n",
       " 'sdr': '1',\n",
       " 'institutpasteur': '1',\n",
       " 'inrae': '1',\n",
       " 'artsetmetiers': '1',\n",
       " 'datadoi': '1',\n",
       " 'ds_physical_technical': '1',\n",
       " 'ds_lifesciences': '1',\n",
       " 'ds_archaeology': '1',\n",
       " 'drga': '1',\n",
       " 'dipf': '1',\n",
       " 'deims': '1',\n",
       " 'datice': '1',\n",
       " 'dataverseno': '1',\n",
       " 'dataversenl': '1',\n",
       " 'darus': '1',\n",
       " 'ingrid': '1',\n",
       " 'dariah-de': '1',\n",
       " 'crc1211db': '1',\n",
       " 'cora': '1',\n",
       " 'compbiomed': '1',\n",
       " 'cessda': '1',\n",
       " 'ceric': '1',\n",
       " 'bluecloud': '1',\n",
       " 'bifie': '1',\n",
       " 'bbmri': '1',\n",
       " 'ds_ssh': '1',\n",
       " 'dzhw': '1',\n",
       " 'ebdc': '1',\n",
       " 'edmond': '1',\n",
       " 'ihi': '1',\n",
       " 'icos': '1',\n",
       " 'icgem': '1',\n",
       " 'hpc': '1',\n",
       " 'heidata': '1',\n",
       " 'gipp': '1',\n",
       " 'gfzdataservices': '1',\n",
       " 'geofon': '1',\n",
       " 'fmi': '1',\n",
       " 'fidmove': '1',\n",
       " 'fidgeo': '1',\n",
       " 'euon': '1',\n",
       " 'ess': '1',\n",
       " 'esrf': '1',\n",
       " 'envidat': '1',\n",
       " 'enmap': '1',\n",
       " 'enes': '1',\n",
       " 'egidatahub': '1',\n",
       " 'edpp': '1',\n",
       " 'zfkd': '1',\n",
       " 'Total Unique Keys': '96',\n",
       " 'Total': '107'}"
      ]
     },
     "execution_count": 8,
     "metadata": {},
     "output_type": "execute_result"
    }
   ],
   "source": [
    "b2f_repos = b2f_stats['Repository']\n",
    "b2f_repos"
   ]
  },
  {
   "cell_type": "code",
   "execution_count": 9,
   "id": "f0ff4e00-d835-4448-8d54-d24076ba8fc5",
   "metadata": {},
   "outputs": [
    {
     "data": {
      "text/plain": [
       "{'ahri',\n",
       " 'artsetmetiers',\n",
       " 'bbmri',\n",
       " 'bifie',\n",
       " 'bluecloud',\n",
       " 'ceric',\n",
       " 'cessda',\n",
       " 'compbiomed',\n",
       " 'cora',\n",
       " 'crc1211db',\n",
       " 'dariah-de',\n",
       " 'darus',\n",
       " 'datadoi',\n",
       " 'dataversenl',\n",
       " 'dataverseno',\n",
       " 'datice',\n",
       " 'deims',\n",
       " 'dipf',\n",
       " 'drga',\n",
       " 'ds_archaeology',\n",
       " 'ds_lifesciences',\n",
       " 'ds_physical_technical',\n",
       " 'ds_ssh',\n",
       " 'dzhw',\n",
       " 'ebdc',\n",
       " 'edmond',\n",
       " 'edpp',\n",
       " 'egidatahub',\n",
       " 'enes',\n",
       " 'enmap',\n",
       " 'envidat',\n",
       " 'esrf',\n",
       " 'ess',\n",
       " 'eudat',\n",
       " 'euon',\n",
       " 'fidgeo',\n",
       " 'fidmove',\n",
       " 'fmi',\n",
       " 'geofon',\n",
       " 'gfzdataservices',\n",
       " 'gipp',\n",
       " 'heidata',\n",
       " 'hpc',\n",
       " 'hzb',\n",
       " 'icgem',\n",
       " 'icos',\n",
       " 'ihi',\n",
       " 'ingrid',\n",
       " 'inrae',\n",
       " 'inria',\n",
       " 'institutpasteur',\n",
       " 'intermagnet',\n",
       " 'isdc',\n",
       " 'isg',\n",
       " 'isis',\n",
       " 'ist',\n",
       " 'ivoa',\n",
       " 'iwh',\n",
       " 'kicos',\n",
       " 'lago',\n",
       " 'life-respira',\n",
       " 'materialscloud',\n",
       " 'midas',\n",
       " 'nird',\n",
       " 'nrm',\n",
       " 'openebench',\n",
       " 'pangaea',\n",
       " 'pik',\n",
       " 'psi',\n",
       " 'radar',\n",
       " 'rda',\n",
       " 'rdc',\n",
       " 'rki',\n",
       " 'rodare',\n",
       " 'sdr',\n",
       " 'seanoe',\n",
       " 'sextant',\n",
       " 'sorbonneuniv',\n",
       " 'srda',\n",
       " 'starsforall',\n",
       " 'tereno',\n",
       " 'textgrid',\n",
       " 'tudatalib',\n",
       " 'tuw',\n",
       " 'ucl',\n",
       " 'uhh',\n",
       " 'ul',\n",
       " 'ulille',\n",
       " 'umontpellier',\n",
       " 'unistra',\n",
       " 'univgustaveeiffel',\n",
       " 'utjj',\n",
       " 'wdcc',\n",
       " 'wsm',\n",
       " 'zbw',\n",
       " 'zfkd'}"
      ]
     },
     "execution_count": 9,
     "metadata": {},
     "output_type": "execute_result"
    }
   ],
   "source": [
    "repos = [repo for repo in b2f_repos.keys() if not 'Total' in repo]\n",
    "repos.sort()\n",
    "repos = set(repos)\n",
    "repos"
   ]
  },
  {
   "cell_type": "code",
   "execution_count": 10,
   "id": "5b1b7a21-8f9f-45db-bde2-bf75cc3c18a5",
   "metadata": {},
   "outputs": [
    {
     "data": {
      "text/plain": [
       "96"
      ]
     },
     "execution_count": 10,
     "metadata": {},
     "output_type": "execute_result"
    }
   ],
   "source": [
    "len(repos)"
   ]
  },
  {
   "cell_type": "markdown",
   "id": "d0adf5e9-3fb2-441d-8e83-de71c563a14a",
   "metadata": {},
   "source": [
    "## Show diffs between b2f repos and ckan orgs"
   ]
  },
  {
   "cell_type": "markdown",
   "id": "487cec56-ed80-46f5-9e3a-554ab7ce9e21",
   "metadata": {},
   "source": [
    "### missing in b2f repos"
   ]
  },
  {
   "cell_type": "code",
   "execution_count": 11,
   "id": "73c6d6d7-fe25-4c93-96ca-b5edaffc1c19",
   "metadata": {},
   "outputs": [
    {
     "data": {
      "text/plain": [
       "{'askeladden',\n",
       " 'clarin',\n",
       " 'drihm',\n",
       " 'eurocordex',\n",
       " 'helmholtz',\n",
       " 'igets',\n",
       " 'ill',\n",
       " 'sddb',\n",
       " 'slks',\n",
       " 'toar'}"
      ]
     },
     "execution_count": 11,
     "metadata": {},
     "output_type": "execute_result"
    }
   ],
   "source": [
    "orgs - repos"
   ]
  },
  {
   "cell_type": "markdown",
   "id": "ab4c47fb-1e5a-40f2-8230-8916941bae91",
   "metadata": {},
   "source": [
    "### missing in ckan orgs"
   ]
  },
  {
   "cell_type": "code",
   "execution_count": 12,
   "id": "6eddb799-403d-4aea-afdd-d2e9ae6e7a6c",
   "metadata": {},
   "outputs": [
    {
     "data": {
      "text/plain": [
       "{'enes', 'isdc', 'utjj'}"
      ]
     },
     "execution_count": 12,
     "metadata": {},
     "output_type": "execute_result"
    }
   ],
   "source": [
    "repos - orgs"
   ]
  },
  {
   "cell_type": "markdown",
   "id": "ecb578e3-7c9c-47cf-af0b-8681a32ea1ea",
   "metadata": {},
   "source": [
    "### both in ckan orgs and b2f repos"
   ]
  },
  {
   "cell_type": "code",
   "execution_count": 13,
   "id": "2110223c-bb73-4ad4-b5cd-dc32ccbbcca6",
   "metadata": {},
   "outputs": [
    {
     "data": {
      "text/plain": [
       "{'ahri',\n",
       " 'artsetmetiers',\n",
       " 'bbmri',\n",
       " 'bifie',\n",
       " 'bluecloud',\n",
       " 'ceric',\n",
       " 'cessda',\n",
       " 'compbiomed',\n",
       " 'cora',\n",
       " 'crc1211db',\n",
       " 'dariah-de',\n",
       " 'darus',\n",
       " 'datadoi',\n",
       " 'dataversenl',\n",
       " 'dataverseno',\n",
       " 'datice',\n",
       " 'deims',\n",
       " 'dipf',\n",
       " 'drga',\n",
       " 'ds_archaeology',\n",
       " 'ds_lifesciences',\n",
       " 'ds_physical_technical',\n",
       " 'ds_ssh',\n",
       " 'dzhw',\n",
       " 'ebdc',\n",
       " 'edmond',\n",
       " 'edpp',\n",
       " 'egidatahub',\n",
       " 'enmap',\n",
       " 'envidat',\n",
       " 'esrf',\n",
       " 'ess',\n",
       " 'eudat',\n",
       " 'euon',\n",
       " 'fidgeo',\n",
       " 'fidmove',\n",
       " 'fmi',\n",
       " 'geofon',\n",
       " 'gfzdataservices',\n",
       " 'gipp',\n",
       " 'heidata',\n",
       " 'hpc',\n",
       " 'hzb',\n",
       " 'icgem',\n",
       " 'icos',\n",
       " 'ihi',\n",
       " 'ingrid',\n",
       " 'inrae',\n",
       " 'inria',\n",
       " 'institutpasteur',\n",
       " 'intermagnet',\n",
       " 'isg',\n",
       " 'isis',\n",
       " 'ist',\n",
       " 'ivoa',\n",
       " 'iwh',\n",
       " 'kicos',\n",
       " 'lago',\n",
       " 'life-respira',\n",
       " 'materialscloud',\n",
       " 'midas',\n",
       " 'nird',\n",
       " 'nrm',\n",
       " 'openebench',\n",
       " 'pangaea',\n",
       " 'pik',\n",
       " 'psi',\n",
       " 'radar',\n",
       " 'rda',\n",
       " 'rdc',\n",
       " 'rki',\n",
       " 'rodare',\n",
       " 'sdr',\n",
       " 'seanoe',\n",
       " 'sextant',\n",
       " 'sorbonneuniv',\n",
       " 'srda',\n",
       " 'starsforall',\n",
       " 'tereno',\n",
       " 'textgrid',\n",
       " 'tudatalib',\n",
       " 'tuw',\n",
       " 'ucl',\n",
       " 'uhh',\n",
       " 'ul',\n",
       " 'ulille',\n",
       " 'umontpellier',\n",
       " 'unistra',\n",
       " 'univgustaveeiffel',\n",
       " 'wdcc',\n",
       " 'wsm',\n",
       " 'zbw',\n",
       " 'zfkd'}"
      ]
     },
     "execution_count": 13,
     "metadata": {},
     "output_type": "execute_result"
    }
   ],
   "source": [
    "matched = orgs.intersection(repos)\n",
    "matched"
   ]
  },
  {
   "cell_type": "code",
   "execution_count": 14,
   "id": "cb007b2a-9acc-46d6-b99d-43a06105a220",
   "metadata": {},
   "outputs": [
    {
     "data": {
      "text/plain": [
       "93"
      ]
     },
     "execution_count": 14,
     "metadata": {},
     "output_type": "execute_result"
    }
   ],
   "source": [
    "len(matched)"
   ]
  }
 ],
 "metadata": {
  "kernelspec": {
   "display_name": "Python 3 (ipykernel)",
   "language": "python",
   "name": "python3"
  },
  "language_info": {
   "codemirror_mode": {
    "name": "ipython",
    "version": 3
   },
   "file_extension": ".py",
   "mimetype": "text/x-python",
   "name": "python",
   "nbconvert_exporter": "python",
   "pygments_lexer": "ipython3",
   "version": "3.8.16"
  }
 },
 "nbformat": 4,
 "nbformat_minor": 5
}
