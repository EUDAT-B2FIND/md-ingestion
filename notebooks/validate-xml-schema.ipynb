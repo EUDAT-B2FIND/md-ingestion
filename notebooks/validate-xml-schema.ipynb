{
 "cells": [
  {
   "cell_type": "markdown",
   "id": "744eecf0-1dd5-4858-9c66-7882e36c2ed0",
   "metadata": {},
   "source": [
    "# Validate B2find/EudatCore XML schema\n",
    "\n",
    "* https://b2find.eudat.eu/site/forproviders/#eudat-core-metadata-schema\n",
    "* https://gitlab.eudat.eu/eudat-metadata/eudat-core-schema\n",
    "* https://pypi.org/project/xmlschema/"
   ]
  },
  {
   "cell_type": "code",
   "execution_count": 1,
   "id": "d527d446-0048-4ec8-b55b-ea60f524299d",
   "metadata": {},
   "outputs": [],
   "source": [
    "import xmlschema\n",
    "from pprint import pprint\n"
   ]
  },
  {
   "cell_type": "code",
   "execution_count": 2,
   "id": "0bad6fbc-ae6b-48ed-9ea6-89d257906619",
   "metadata": {
    "tags": []
   },
   "outputs": [],
   "source": [
    "eudat_core_xsd = 'http://schema.eudat.eu/meta/kernel-core-1.0/schema.xsd'\n",
    "eudat_core_gitlab_xsd = 'https://gitlab.eudat.eu/eudat-metadata/eudat-core-schema/-/raw/master/eudat-core.xsd'\n",
    "eudat_core_example_xml = 'https://gitlab.eudat.eu/eudat-metadata/eudat-core-schema/-/raw/master/examples/core-full-example.xml'\n"
   ]
  },
  {
   "cell_type": "code",
   "execution_count": 3,
   "id": "9319faca-907b-4ce3-b638-cda1a2900c5d",
   "metadata": {
    "tags": []
   },
   "outputs": [],
   "source": [
    "xs = xmlschema.XMLSchema(eudat_core_gitlab_xsd)"
   ]
  },
  {
   "cell_type": "code",
   "execution_count": 4,
   "id": "0131543e-ac53-4ecd-afaf-4161d0b42eaf",
   "metadata": {
    "tags": []
   },
   "outputs": [
    {
     "data": {
      "text/plain": [
       "True"
      ]
     },
     "execution_count": 4,
     "metadata": {},
     "output_type": "execute_result"
    }
   ],
   "source": [
    "xs.is_valid(eudat_core_example_xml)"
   ]
  },
  {
   "cell_type": "code",
   "execution_count": 5,
   "id": "6dfd8acc-933e-4902-ab5e-a86883d5b42b",
   "metadata": {
    "tags": []
   },
   "outputs": [
    {
     "name": "stdout",
     "output_type": "stream",
     "text": [
      "{'@xmlns': 'http://schema.eudat.eu/schema/kernel-1',\n",
      " '@xmlns:xsi': 'http://www.w3.org/2001/XMLSchema-instance',\n",
      " '@xsi:schemaLocation': 'http://schema.eudat.eu/schema/kernel-1 '\n",
      "                        'http://schema.eudat.eu/meta/kernel-core-1.0/schema.xsd',\n",
      " 'community': 'EUDAT community',\n",
      " 'contacts': {'contact': ['info@community.org',\n",
      "                          'https://community.org/contact']},\n",
      " 'contributors': {'contributor': [{'contributorName': 'Miller, Elizabeth'},\n",
      "                                  {'contributorName': 'PaNOSC'},\n",
      "                                  {'contributorName': 'Deutsches '\n",
      "                                                      'Klimarechenzentrum'}]},\n",
      " 'creators': {'creator': [{'creatorName': 'Miller, Elizabeth'},\n",
      "                          {'creatorName': 'Fuller, Barry'}]},\n",
      " 'descriptions': {'description': ['XML example of all EUDAT Core Metadata '\n",
      "                                  'Schema v1.0 properties.']},\n",
      " 'disciplines': {'discipline': ['English literature', 'World literature']},\n",
      " 'formats': {'format': ['application/xml', 'application/pdf']},\n",
      " 'fundingReferences': {'fundingReference': [{'awardNumber': 'XYZ-10001',\n",
      "                                             'funderName': 'National Science '\n",
      "                                                           'Foundation'},\n",
      "                                            {'funderName': 'Federal Science '\n",
      "                                                           'Organisation'}]},\n",
      " 'identifiers': {'identifier': [{'$': '10.1594/WDCC/CCSRNIES_SRES_B2',\n",
      "                                 '@identifierType': 'DOI'},\n",
      "                                {'$': '2013A&A...558A.149B',\n",
      "                                 '@identifierType': 'ARK'},\n",
      "                                {'$': 'https://b2share.eudat.eu/records/bb8964ff899c4711a0e8875b87ab2800',\n",
      "                                 '@identifierType': 'URL'}]},\n",
      " 'instruments': {'instrument': ['Instrument name without identifier',\n",
      "                                {'$': 'Instrument name',\n",
      "                                 '@instrumentIdentifier': '10.1594/WDCC/CCSRNIES_SRES_B2',\n",
      "                                 '@instrumentIdentifierType': 'DOI'}]},\n",
      " 'keywords': {'keyword': ['computer science', 'metadata', 'design']},\n",
      " 'languages': {'language': ['eng', 'ger']},\n",
      " 'publicationYear': '2020',\n",
      " 'publishers': {'publisher': ['EUDAT B2SHARE', 'NASA GOV']},\n",
      " 'relatedIdentifiers': {'relatedIdentifier': [{'$': 'https://schema.eudat.eu/application/citeproc+json/10.12345/eudat-core-example-full',\n",
      "                                               '@relatedIdentifierType': 'URL'},\n",
      "                                              {'$': '0706.0001',\n",
      "                                               '@relatedIdentifierType': 'arXiv'}]},\n",
      " 'resourceTypes': {'resourceType': ['Dataset', 'AstroImage', 'DataCollection']},\n",
      " 'rightsList': {'rights': ['Creative Commons Zero 1.0',\n",
      "                           'info:eu-repo/semantics/openAccess']},\n",
      " 'sizes': {'size': ['400 MB', '102 files']},\n",
      " 'spatialCoverages': {'spatialCoverage': [{'geoLocationBox': [{'eastBoundLongitude': -68.211,\n",
      "                                                               'northBoundLatitude': 42.893,\n",
      "                                                               'southBoundLatitude': 41.09,\n",
      "                                                               'westBoundLongitude': -71.032}],\n",
      "                                           'geoLocationPlace': ['Atlantic '\n",
      "                                                                'Ocean'],\n",
      "                                           'geoLocationPoint': [{'pointLatitude': 31.233,\n",
      "                                                                 'pointLongitude': -67.302}]},\n",
      "                                          {'geoLocationPolygon': [{'polygonPoint': [{'pointLatitude': 41.991,\n",
      "                                                                                     'pointLongitude': -71.032},\n",
      "                                                                                    {'pointLatitude': 42.893,\n",
      "                                                                                     'pointLongitude': -69.622},\n",
      "                                                                                    {'pointLatitude': 41.991,\n",
      "                                                                                     'pointLongitude': -68.211},\n",
      "                                                                                    {'pointLatitude': 41.09,\n",
      "                                                                                     'pointLongitude': -69.622},\n",
      "                                                                                    {'pointLatitude': 41.991,\n",
      "                                                                                     'pointLongitude': -71.032}]}]}]},\n",
      " 'temporalCoverages': {'temporalCoverage': [{'endDate': [{'$': '2005-06-02',\n",
      "                                                          '@format': 'ISO-8601'}],\n",
      "                                             'startDate': [{'$': '2004-03-02',\n",
      "                                                            '@format': 'ISO-8601'}]},\n",
      "                                            {'span': ['Paleocene']}]},\n",
      " 'titles': {'title': [{'$': 'EUDAT Core metadata schema full example',\n",
      "                       '@{http://www.w3.org/XML/1998/namespace}lang': 'en'},\n",
      "                      {'$': 'Here you find exapmles for the EUDAT Core '\n",
      "                            'metadata schema',\n",
      "                       '@{http://www.w3.org/XML/1998/namespace}lang': 'en'}]},\n",
      " 'version': '1.0'}\n"
     ]
    }
   ],
   "source": [
    "pprint(xs.to_dict(eudat_core_example_xml))"
   ]
  }
 ],
 "metadata": {
  "kernelspec": {
   "display_name": "Python 3 (ipykernel)",
   "language": "python",
   "name": "python3"
  },
  "language_info": {
   "codemirror_mode": {
    "name": "ipython",
    "version": 3
   },
   "file_extension": ".py",
   "mimetype": "text/x-python",
   "name": "python",
   "nbconvert_exporter": "python",
   "pygments_lexer": "ipython3",
   "version": "3.8.16"
  }
 },
 "nbformat": 4,
 "nbformat_minor": 5
}
