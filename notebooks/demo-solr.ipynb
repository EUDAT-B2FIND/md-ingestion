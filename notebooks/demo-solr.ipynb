{
 "cells": [
  {
   "cell_type": "markdown",
   "id": "27e95b66-9def-4438-8f1e-f310cd991a8a",
   "metadata": {},
   "source": [
    "# Solr Demo\n",
    "\n",
    "* https://pypi.org/project/pysolr/\n",
    "* https://solr.apache.org/guide/8_11/index.html"
   ]
  },
  {
   "cell_type": "code",
   "execution_count": 45,
   "id": "b51c7259-b384-4724-a0a5-80e279de49e3",
   "metadata": {},
   "outputs": [],
   "source": [
    "import pysolr"
   ]
  },
  {
   "cell_type": "code",
   "execution_count": 110,
   "id": "b90bb82a-e303-404e-8969-86656f403aa0",
   "metadata": {},
   "outputs": [],
   "source": [
    "solr = pysolr.Solr(\n",
    "    'http://localhost:8983/solr/ckan', \n",
    "    search_handler='/select'\n",
    ")"
   ]
  },
  {
   "cell_type": "code",
   "execution_count": 111,
   "id": "bd8e9bb1-837a-4e45-a465-b98da3ed4f77",
   "metadata": {},
   "outputs": [
    {
     "data": {
      "text/plain": [
       "'{\\n  \"responseHeader\":{\\n    \"zkConnected\":null,\\n    \"status\":0,\\n    \"QTime\":0,\\n    \"params\":{\\n      \"q\":\"{!lucene}*:*\",\\n      \"distrib\":\"false\",\\n      \"df\":\"_text_\",\\n      \"rows\":\"10\",\\n      \"echoParams\":\"all\",\\n      \"rid\":\"-192\"}},\\n  \"status\":\"OK\"}\\n'"
      ]
     },
     "execution_count": 111,
     "metadata": {},
     "output_type": "execute_result"
    }
   ],
   "source": [
    "solr.ping()"
   ]
  },
  {
   "cell_type": "code",
   "execution_count": 156,
   "id": "50b85fca-5bc7-46ef-a57b-93e3257c15be",
   "metadata": {},
   "outputs": [
    {
     "data": {
      "text/plain": [
       "19"
      ]
     },
     "execution_count": 156,
     "metadata": {},
     "output_type": "execute_result"
    }
   ],
   "source": [
    "results = solr.search(\n",
    "    'title:forami~', **{\n",
    "    #'spellcheck': 'true',\n",
    "    #'spellcheck.q': 'diato*',\n",
    "})\n",
    "results.hits"
   ]
  },
  {
   "cell_type": "markdown",
   "id": "e0186e9d-16eb-4670-9d35-503781631374",
   "metadata": {},
   "source": [
    "results.spellcheck"
   ]
  },
  {
   "cell_type": "code",
   "execution_count": null,
   "id": "e68d01a9-8e0f-421e-816e-31733ef3c1bf",
   "metadata": {},
   "outputs": [],
   "source": []
  }
 ],
 "metadata": {
  "kernelspec": {
   "display_name": "Python 3 (ipykernel)",
   "language": "python",
   "name": "python3"
  },
  "language_info": {
   "codemirror_mode": {
    "name": "ipython",
    "version": 3
   },
   "file_extension": ".py",
   "mimetype": "text/x-python",
   "name": "python",
   "nbconvert_exporter": "python",
   "pygments_lexer": "ipython3",
   "version": "3.8.13"
  }
 },
 "nbformat": 4,
 "nbformat_minor": 5
}
