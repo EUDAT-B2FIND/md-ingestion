{
 "cells": [
  {
   "cell_type": "markdown",
   "id": "744eecf0-1dd5-4858-9c66-7882e36c2ed0",
   "metadata": {},
   "source": [
    "# B2Find JSON schema example\n",
    "\n",
    "* https://b2find.eudat.eu/site/forproviders/#eudat-core-metadata-schema\n",
    "* https://gitlab.eudat.eu/eudat-metadata/eudat-core-schema\n"
   ]
  },
  {
   "cell_type": "markdown",
   "id": "53333552-a5b0-4e68-9068-00400fd8af83",
   "metadata": {},
   "source": [
    "## JSON schema\n",
    "\n",
    "* https://json-schema.org/\n",
    "* https://github.com/json-schema-org\n",
    "* https://pypi.org/project/jsonschema/"
   ]
  },
  {
   "cell_type": "code",
   "execution_count": 1,
   "id": "85d4e8aa-13b4-4aa4-8dba-a7135e93b363",
   "metadata": {
    "tags": []
   },
   "outputs": [],
   "source": [
    "b2f_json_schema = {\n",
    "  \"$id\": \"https://example.com/b2f.schema.json\",\n",
    "  \"$schema\": \"https://json-schema.org/draft/2020-12/schema\",\n",
    "  \"title\": \"B2Find\",\n",
    "  \"required\": [ \"identifier\", \"title\" ],\n",
    "  \"type\": \"object\",\n",
    "  \"properties\": {\n",
    "    \"identifier\": {\n",
    "      \"type\": \"array\",\n",
    "      \"items\": {\n",
    "        \"type\": \"string\"\n",
    "      },\n",
    "    },\n",
    "    \"title\": {\n",
    "      \"type\": \"array\",\n",
    "      \"items\": {\n",
    "        \"type\": \"string\"\n",
    "      },\n",
    "    },\n",
    "    \"community\": {\n",
    "      \"type\": \"string\",\n",
    "    },\n",
    "  },\n",
    "  \"$defs\": {\n",
    "    \"veggie\": {\n",
    "      \"type\": \"object\",\n",
    "      \"required\": [ \"veggieName\", \"veggieLike\" ],\n",
    "      \"properties\": {\n",
    "        \"veggieName\": {\n",
    "          \"type\": \"string\",\n",
    "          \"description\": \"The name of the vegetable.\"\n",
    "        },\n",
    "        \"veggieLike\": {\n",
    "          \"type\": \"boolean\",\n",
    "          \"description\": \"Do I like this vegetable?\"\n",
    "        }\n",
    "      }\n",
    "    }\n",
    "  }\n",
    "}"
   ]
  },
  {
   "cell_type": "code",
   "execution_count": 2,
   "id": "29da3d80-e357-4e80-9559-00f4c2b5fe86",
   "metadata": {
    "tags": []
   },
   "outputs": [],
   "source": [
    "b2f_data = {\n",
    "    \"identifier\": [\"https://b2share.eudat.eu/records/bb8964ff899c4711a0e8875b87ab2800\"],\n",
    "    \"title\": [\"JSON schema example\"],\n",
    "    \"community\": \"EUDAT community\",\n",
    "}"
   ]
  },
  {
   "cell_type": "code",
   "execution_count": 3,
   "id": "2f0b3f64-7de1-4132-82fd-a0b00760e1b6",
   "metadata": {},
   "outputs": [],
   "source": [
    "from jsonschema import validate"
   ]
  },
  {
   "cell_type": "code",
   "execution_count": 4,
   "id": "54fed1b9-c652-41da-aa3a-4899731296c3",
   "metadata": {
    "tags": []
   },
   "outputs": [],
   "source": [
    "validate(instance=b2f_data, schema=b2f_json_schema)"
   ]
  }
 ],
 "metadata": {
  "kernelspec": {
   "display_name": "Python 3 (ipykernel)",
   "language": "python",
   "name": "python3"
  },
  "language_info": {
   "codemirror_mode": {
    "name": "ipython",
    "version": 3
   },
   "file_extension": ".py",
   "mimetype": "text/x-python",
   "name": "python",
   "nbconvert_exporter": "python",
   "pygments_lexer": "ipython3",
   "version": "3.8.16"
  }
 },
 "nbformat": 4,
 "nbformat_minor": 5
}
