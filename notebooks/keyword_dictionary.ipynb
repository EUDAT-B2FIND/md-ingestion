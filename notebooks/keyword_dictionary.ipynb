{
 "cells": [
  {
   "cell_type": "code",
   "execution_count": null,
   "id": "adverse-adult",
   "metadata": {},
   "outputs": [],
   "source": [
    "import pandas as pd"
   ]
  },
  {
   "cell_type": "code",
   "execution_count": null,
   "id": "genuine-salem",
   "metadata": {},
   "outputs": [],
   "source": [
    "df = pd.read_csv(open('../etc/Community/INRAE_MappingSubject__Discipline.csv'))\n",
    "df"
   ]
  },
  {
   "cell_type": "code",
   "execution_count": null,
   "id": "large-reduction",
   "metadata": {},
   "outputs": [],
   "source": [
    "result = df.loc[df.Subject == 'Omics']\n",
    "result"
   ]
  },
  {
   "cell_type": "code",
   "execution_count": null,
   "id": "sustained-bryan",
   "metadata": {},
   "outputs": [],
   "source": [
    "list(result.Discipline.to_dict().values())[0]"
   ]
  },
  {
   "cell_type": "code",
   "execution_count": null,
   "id": "retired-sight",
   "metadata": {},
   "outputs": [],
   "source": [
    "from mdingestion import classify"
   ]
  },
  {
   "cell_type": "code",
   "execution_count": null,
   "id": "obvious-kuwait",
   "metadata": {},
   "outputs": [],
   "source": [
    "classifier = classify.Classify()\n",
    "classifier.map_discipline(\n",
    "        ['Omics'])"
   ]
  },
  {
   "cell_type": "code",
   "execution_count": null,
   "id": "sorted-request",
   "metadata": {},
   "outputs": [],
   "source": [
    "result2 = list(df.Discipline.to_dict().values())\n",
    "result2"
   ]
  },
  {
   "cell_type": "code",
   "execution_count": null,
   "id": "general-incentive",
   "metadata": {},
   "outputs": [],
   "source": [
    "for value in result2:\n",
    "    values=value.split(';')\n",
    "    print(f'in:{values}')\n",
    "    disciplines=classifier.map_discipline(values)\n",
    "    print(f'out:{disciplines}')\n",
    "    print()\n",
    "    "
   ]
  },
  {
   "cell_type": "code",
   "execution_count": null,
   "id": "federal-access",
   "metadata": {},
   "outputs": [],
   "source": []
  }
 ],
 "metadata": {
  "kernelspec": {
   "display_name": "Python 3",
   "language": "python",
   "name": "python3"
  },
  "language_info": {
   "codemirror_mode": {
    "name": "ipython",
    "version": 3
   },
   "file_extension": ".py",
   "mimetype": "text/x-python",
   "name": "python",
   "nbconvert_exporter": "python",
   "pygments_lexer": "ipython3",
   "version": "3.8.6"
  }
 },
 "nbformat": 4,
 "nbformat_minor": 5
}
